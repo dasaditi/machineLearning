{
 "cells": [
  {
   "cell_type": "markdown",
   "metadata": {},
   "source": [
    "\n",
    "# Implementing Logistic Regression Algorithm with NumPy"
   ]
  },
  {
   "cell_type": "markdown",
   "metadata": {},
   "source": [
    "## Introduction"
   ]
  },
  {
   "cell_type": "markdown",
   "metadata": {},
   "source": [
    "Despite its name, logistic regression (LR) is a classification algorithm where the output $y$ produces discrete outcomes. In a classification problem we want to predict a variable $y$ $\\in$ {0,1}, where 0 is called negative class, while 1 is called positive class. Such task is known as binary classification. Other classification problems might require more than a binary output, for example where $y$ $\\in$ {0,1,2,3}. Such classification is known as a multiclass classification. In this post we will be focusing on the binary classification problem.\n",
    "\n",
    "There are many useful resources explaining the concept behind logistic regression, particularly I found Andrew Ng's [machine learning course](https://www.coursera.org/learn/machine-learning/) very useful. In this blog I will only cover the points necessary to understand the math and implement it yourself without the help of any machine learning library."
   ]
  },
  {
   "cell_type": "markdown",
   "metadata": {},
   "source": [
    "> ### Difference between Logistic Regression and Linear Regression\n",
    ">>For linear regression the outcome is continuous while for logistic regression the outcome is discrete.  \n",
    "Linear Regression has an analytic solution to solve for the parameters, though you may also use maximum likelihood estimation to calculate the parameters. In logistic regression, there's no easy way to solve for the parameters.\n",
    "Instead use maximum likelihood estimation."
   ]
  },
  {
   "cell_type": "markdown",
   "metadata": {},
   "source": [
    "## Hypothesis Representation"
   ]
  },
  {
   "cell_type": "markdown",
   "metadata": {},
   "source": [
    "The logistic regression's hypothesis function outputs a number between 0 and 1.\t$0\\leq h_\\theta(x)\\leq 1$.\n",
    "You can think of it as the estimated probability that $y=1$ based on given input $x$ and model parameter $\\theta$. Formally, the hypothesis function can be written as: $$\\large h_\\theta(x)=P(y=1|x;\\theta)$$ \n",
    "\n",
    "In simple words, the hypothesis function tells you the probability that $y=1$ given $x$, parametrized by $\\theta$.  \n",
    "\n",
    "Since the outcome $y$ is restricted between two values 0 and 1, we can compute the probability that $y=0$ as well.\n",
    "$$\\large P(y=0|x;\\theta) = 1- P(y=1|x;\\theta)$$"
   ]
  },
  {
   "cell_type": "markdown",
   "metadata": {},
   "source": [
    "In order to get our discrete 0 or 1 classification, we can translate the output of the hypothesis function as follows:\n",
    "$$\n",
    "\\large h_\\theta(x) \\geq 0.5 \\rightarrow y=1\n",
    "$$\n",
    "$$\n",
    "\\large h_\\theta(x) \\lt 0.5 \\rightarrow y=0\n",
    "$$"
   ]
  },
  {
   "cell_type": "markdown",
   "metadata": {},
   "source": [
    "So far so good. But how do we calculate the value of $ h_\\theta(x) $ ?"
   ]
  },
  {
   "cell_type": "markdown",
   "metadata": {},
   "source": [
    "A typical logistic regression lifecycle looks like the Fig1. Similar to linear regression we first calculate the numerical values based on the inputs and model parameters, and then we apply a sigmoid (also known as logit) function  to the weighted sum of input data and parameters of the model. What we get back is the probability that the output belongs to a particular class. We apply the threshold logic of 0.5 to get back the discrete outputs.\n"
   ]
  },
  {
   "cell_type": "markdown",
   "metadata": {},
   "source": [
    "$$ \\begin{align}\\large {z} = \\theta_0\\times 1+ \\theta_1 \\times x_1 + \\theta_2 \\times x_2 + \\cdots + \\theta_n \\times x_n\\end{align} $$"
   ]
  },
  {
   "cell_type": "markdown",
   "metadata": {},
   "source": [
    "\n",
    "$$\n",
    " \\begin{align} \\\n",
    "\\large h_\\theta(x)={g(z)}=  \\frac{\\mathrm{1} }{\\mathrm{1} + e^{-z} } \n",
    "\\end{align}\n",
    "$$"
   ]
  },
  {
   "cell_type": "markdown",
   "metadata": {},
   "source": [
    "<img src=\"images/Logistic-2.png\" alt=\"Hypothesis Representation of Logistic Regression\"/>\n",
    " "
   ]
  },
  {
   "cell_type": "markdown",
   "metadata": {},
   "source": [
    "> ### Significance of the sigmoid function\n",
    "> If you look closely, the value of $z$ can range between $-\\infty$ and  $+\\infty$. The sigmoid function helps to restrict this value between 0 and 1 so that we can get a probabilistic estimation that the input data belongs to a certain class.\n",
    "><img src=\"images/sigmoid.png\" alt=\"sigmoid function\"/>"
   ]
  },
  {
   "cell_type": "markdown",
   "metadata": {},
   "source": [
    "## Matrix-Vector Representation of Logistic Regression equation"
   ]
  },
  {
   "cell_type": "markdown",
   "metadata": {},
   "source": [
    "Before we dive into the math let's see if we can visualize the above hypothesis representation in a matrix-vector representation. The below equation represents one single record of data. Let's rewrite the equation in a little different way. The intercept $\\theta_0$ can be thought of as a coefficient of x where x=1.\n",
    "\n",
    "$$ \\begin{align}\\large {z} = \\theta_0\\times 1+ \\theta_1 \\times x_1 + \\theta_2 \\times x_2 + \\cdots + \\theta_n \\times x_n\\end{align} \\tag{1.1} $$"
   ]
  },
  {
   "cell_type": "markdown",
   "metadata": {},
   "source": [
    "$$\n",
    "\\begin{equation}\n",
    "\\begin{bmatrix}\n",
    "z\n",
    "\\end{bmatrix}_{1 \\times 1}=\n",
    "  \\begin{bmatrix}\n",
    "    1 & x_1 & x_2 & x_3 & ... & x_n \n",
    "  \\end{bmatrix}_{1 \\times n+1}\n",
    "  %\n",
    "  \\begin{bmatrix}\n",
    "    \\theta_0 \\\\\n",
    "    \\theta_1 \\\\\n",
    "    \\theta_2 \\\\\n",
    "    \\theta_3 \\\\\n",
    "     \\vdots \\\\\n",
    "    \\theta_n \\\\\n",
    "  \\end{bmatrix}_{n+1 \\times 1} \\tag{1.2}\n",
    "\\end{equation}\n",
    "$$\n",
    "If we do a dot product of eq (1.2) we will get back eq (1.1)."
   ]
  },
  {
   "cell_type": "markdown",
   "metadata": {},
   "source": [
    "In a typical machine learning problem, we will have multitude of data. If we have m records with n feature each , the matrix-vector representation of the equation will look like this.\n",
    "$$\n",
    "\\begin{equation}\n",
    "\\begin{bmatrix}\n",
    "z_1 \\\\\n",
    "z_2 \\\\\n",
    "z_3 \\\\\n",
    "\\vdots \\\\\n",
    "z_m \n",
    "\\end{bmatrix}_{ m \\times 1}=\n",
    "  \\begin{bmatrix}\n",
    "    1 & x_{11} & x_{12} & x_{13} & ... & x_{1n} \\\\\n",
    "    1 & x_{21} & x_{22} & x_{23} & ... & x_{2n} \\\\\n",
    "    1 & x_{31} & x_{32} & x_{33} & ... & x_{3n} \\\\\n",
    "    \\vdots \\\\\n",
    "    1 & x_{m1} & x_{m2} & x_{m3} & ... & x_{mn} \\\\\n",
    "  \\end{bmatrix}_{ m \\times n+1}\n",
    "  %\n",
    "  \\begin{bmatrix}\n",
    "    \\theta_0 \\\\\n",
    "    \\theta_1 \\\\\n",
    "    \\theta_2 \\\\\n",
    "    \\theta_3 \\\\\n",
    "     \\vdots \\\\\n",
    "    \\theta_n \\\\\n",
    "  \\end{bmatrix}_{ n+1 \\times 1} \\tag{1.3}\n",
    "\\end{equation}\n",
    "$$"
   ]
  },
  {
   "cell_type": "markdown",
   "metadata": {},
   "source": [
    "Almost there, we will apply the sigmoid function on each element of the **z** vector to get the probabilistic estimation.\n",
    "$$\n",
    "\\begin{equation}\n",
    "\\begin{bmatrix}\n",
    "h_\\theta(x_1) \\\\\n",
    "h_\\theta(x_2) \\\\\n",
    "h_\\theta(x_3) \\\\\n",
    "\\vdots \\\\\n",
    "h_\\theta(x_m)\n",
    "\\end{bmatrix}_{ m \\times 1}=\n",
    "\\begin{bmatrix}\n",
    "\\sigma(z_1) \\\\\n",
    "\\sigma(z_2) \\\\\n",
    "\\sigma(z_3) \\\\\n",
    "\\vdots \\\\\n",
    "\\sigma(z_m)\n",
    "\\end{bmatrix}_{ m \\times 1}\n",
    "\\end{equation}\n",
    "$$"
   ]
  },
  {
   "cell_type": "markdown",
   "metadata": {},
   "source": [
    "In order to get the discrete prediction apply the threshold logic on each element.\n",
    "\n",
    "$$\n",
    "\\begin{equation}\n",
    "\\begin{bmatrix}\n",
    "\\widehat{y_1} \\\\\n",
    "\\widehat{y_2} \\\\\n",
    "\\widehat{y_3} \\\\\n",
    "\\vdots \\\\\n",
    "\\widehat{y_m}\n",
    "\\end{bmatrix}_{ m \\times 1}=\n",
    "\\begin{bmatrix}\n",
    "h_\\theta(x_1) \\geq 0.5 ? 1: 0 \\\\\n",
    "h_\\theta(x_2) \\geq 0.5 ? 1: 0 \\\\\n",
    "h_\\theta(x_3) \\geq 0.5 ? 1: 0 \\\\\n",
    "\\vdots \\\\\n",
    "h_\\theta(x_m) \\geq 0.5 ? 1: 0 \n",
    "\\end{bmatrix}_{ m \\times 1}\n",
    "\\end{equation}\n",
    "$$\n",
    "\n",
    "It is that simple."
   ]
  },
  {
   "cell_type": "markdown",
   "metadata": {},
   "source": [
    "## Gradient Descent Algorithm"
   ]
  },
  {
   "cell_type": "markdown",
   "metadata": {},
   "source": [
    "Unlike linear regression, logistic regression doesn't have an analytical solution to calculate parameters.\n",
    "It is calculated based on maximum likelihood estimation. You can obtain maximum likelihood estimates using different methods, gradient descent algorithm is just one of them.\n",
    "\n",
    "There are multiple variants of gradient descent, depending on how much of the data is being used to calculate the gradient and update the parameters. Batch gradient descent computes the gradient of the cost function w.r.t to parameter W for entire training data. Stochastic gradient descent (SGD),on the other hand, computes the gradient for each update using a single training data point. In mini-batch gradient descent, we calculate the gradient for each small mini-batch of training data. That is, we first divide the training data into small batches (say M samples per batch) and perform one update per mini batch. \n",
    "\n",
    "In this post we will be building our algorithm with batch gradient descent."
   ]
  },
  {
   "cell_type": "markdown",
   "metadata": {},
   "source": [
    "### Steps to estimate parameters"
   ]
  },
  {
   "cell_type": "markdown",
   "metadata": {},
   "source": [
    "Now, let's go over the steps we need to compute the parameters. Each step will be followed by the corresponding code snippets. The entire code can be found at the end."
   ]
  },
  {
   "cell_type": "markdown",
   "metadata": {},
   "source": [
    "### Step 1. Define your model and gather your data\n",
    "This is a very important step where you identify your dependent and feature variables. For the purpose of this post, let's assume we have a dataset of 500 records and two features. We will not use any existing dataset, rather we will synthetically generate our own data though sklearn's make_classification() api and randomly split it in 80:20 ratio between train and test set. For the two features, we have to calculate two coefficients and an intercept. The linear part of the logistic regression will look like:\n",
    "$$ \\begin{align}\\large z = \\theta_0\\times 1+ \\theta_1 \\times x_1 + \\theta_2 \\times x_2 \\end{align} $$\n",
    "> **Feature Scaling** :As discussed in my [previous blog on Linear Regression](https://dasaditi.github.io/Linear-Regression-With-Python/) we need to do feature scaling first to get all feature on the same scale.  \n"
   ]
  },
  {
   "cell_type": "code",
   "execution_count": 2,
   "metadata": {},
   "outputs": [],
   "source": [
    "%matplotlib inline\n",
    "import matplotlib.pyplot as plt\n",
    "import numpy as np\n",
    "import seaborn as sns\n",
    "import matplotlib.pyplot as plt\n",
    "from sklearn.datasets import  make_classification\n",
    "\n",
    "X, y = make_classification(n_samples=500,  n_features=2,  n_informative=2,n_redundant=0,random_state=0)\n",
    "\n",
    "#Stack another vector of 1 horizontally\n",
    "X = np.c_[np.ones((X.shape[0])),X]\n",
    "\n",
    "#Normalize the data \n",
    "mean = np.mean(X)\n",
    "sigma = np.std(X)\n",
    "X = (X-mean) / sigma\n",
    "\n",
    "# Shuffles the indices\n",
    "idx = np.arange(100)\n",
    "np.random.shuffle(idx)\n",
    "\n",
    "# Uses first 80 random indices for train\n",
    "train_idx = idx[:80]\n",
    "# Uses the remaining indices for validation\n",
    "val_idx = idx[80:]\n",
    "\n",
    "# Generates train and validation sets\n",
    "x_train, y_train = X[train_idx], y[train_idx]\n",
    "x_val, y_val = X[val_idx], y[val_idx]"
   ]
  },
  {
   "cell_type": "code",
   "execution_count": 3,
   "metadata": {},
   "outputs": [
    {
     "data": {
      "image/png": "[encoded data removed]",
      "text/plain": [
       "<Figure size 432x288 with 1 Axes>"
      ]
     },
     "metadata": {},
     "output_type": "display_data"
    }
   ],
   "source": [
    "sns.set_style('white')\n",
    "sns.scatterplot(X[:,1],X[:,2],hue=y.reshape(-1))\n",
    "plt.title(\"Data distribution\")\n",
    "plt.show();"
   ]
  },
  {
   "cell_type": "markdown",
   "metadata": {},
   "source": [
    "### Step 2. Initialize the Parameters\n",
    "Once we have identified our feature variables, we have an idea how many parameters you need to train. Since we have two feature and one intercept there are three parameters to be trained. The dimension of weight vector is $3\\times1$. Initialize the parameters to random values to begin with."
   ]
  },
  {
   "cell_type": "code",
   "execution_count": 4,
   "metadata": {},
   "outputs": [
    {
     "data": {
      "text/plain": [
       "array([[0.78201125],\n",
       "       [0.27531198],\n",
       "       [0.98929374]])"
      ]
     },
     "execution_count": 4,
     "metadata": {},
     "output_type": "execute_result"
    }
   ],
   "source": [
    "W = np.random.rand(X.shape[1],1)\n",
    "W"
   ]
  },
  {
   "cell_type": "markdown",
   "metadata": {},
   "source": [
    "### Step 3. Define the loss/cost function that you want to minimize"
   ]
  },
  {
   "cell_type": "markdown",
   "metadata": {},
   "source": [
    "Just like any other regression solution using gradient descent, we estimate weights by minimizing the cost function. Linear regression uses mean squared error (MSE) as loss function that gives a convex graph, so it is guaranteed to find a global minimum. However, it’s not an option for logistic regression anymore. Since the hypothesis has changed, mean squared error will result in a non-convex graph with no easy to find minimum global point, as seen in the picture below."
   ]
  },
  {
   "cell_type": "markdown",
   "metadata": {},
   "source": [
    "\n",
    "    <img src=\"images/Logistic-1.png\" />"
   ]
  },
  {
   "cell_type": "markdown",
   "metadata": {},
   "source": [
    "This strange outcome is due to the fact that in logistic regression we have the sigmoid function. With the $J(\\theta)$ depicted in fig 2, the gradient descent algorithm might get stuck at a local minimum point. That's why we still need a neat convex function as we did for linear regression, hence we use the log loss or cross entropy loss as the cost function for logistic regression."
   ]
  },
  {
   "attachments": {},
   "cell_type": "markdown",
   "metadata": {},
   "source": [
    "For logistic regression, the cost function is defined as:\n",
    "$$\\large J(\\mathbf{\\theta}) = \\frac{1}{m} \\displaystyle\\sum_{i=1}^{m} -y_i \\cdot \\log(h_\\theta(x_i)) - (1-y_i) \\cdot log(1-h_\\theta(x_i))$$  \n",
    "\n",
    "This cross-entropy cost function guarantees a convex graph and a global minimum."
   ]
  },
  {
   "cell_type": "markdown",
   "metadata": {},
   "source": [
    "<img src=\"images/Logistic-4.png\"/>\n"
   ]
  },
  {
   "cell_type": "code",
   "execution_count": 5,
   "metadata": {},
   "outputs": [],
   "source": [
    "def compute_cost(self):\n",
    "    cost = -self.y*np.log(self.y_proba) - (1-self.y)*np.log(1-self.y_proba)\n",
    "    loss=np.mean(cost)    \n",
    "    return loss\n",
    "    "
   ]
  },
  {
   "cell_type": "markdown",
   "metadata": {},
   "source": [
    "### Step 4.  Compute the Gradients\n",
    "Next, we have to calculate the partial derivative of the loss function with respect to each parameter. The calculation of gradient is little complicated for logistic regression but is beautifully explained in this [article](https://medium.com/analytics-vidhya/derivative-of-log-loss-function-for-logistic-regression-9b832f025c2d).\n"
   ]
  },
  {
   "cell_type": "markdown",
   "metadata": {},
   "source": [
    "$$ \\large \\frac{\\partial J(\\mathbf{\\theta})}{\\partial \\theta_j}  =  -\\frac{1}{m}\\sum_{i=1}^{m}x_j(y^{(i)} - h_\\theta^{(i)}(x))) $$"
   ]
  },
  {
   "cell_type": "markdown",
   "metadata": {},
   "source": [
    "Surprisingly, it looks identical to what we were doing for the multivariate linear regression. What's changed however is the definition of the hypothesis $h_\\theta(x)$ function. For linear regression we had $h_\\theta(x)=\\theta^{T}x$ , whereas for logistic regression we have $h_\\theta(x)= \\frac{\\mathrm{1} }{\\mathrm{1} + e^{-\\theta^{T}x} }$ ."
   ]
  },
  {
   "cell_type": "markdown",
   "metadata": {},
   "source": [
    "### Step 5: Update the Parameters\n"
   ]
  },
  {
   "cell_type": "markdown",
   "metadata": {},
   "source": [
    "In the final step, we use the gradients to update the parameters. There is still another parameter to consider: the learning rate, denoted by the Greek letter eta (that looks like the letter n), which is the multiplicative factor that we need to apply to the gradient for the parameter update. The learning rate is a tuning parameter in an optimization algorithm that determines the step size at each iteration while moving toward a minimum of a loss function.\n",
    "\n",
    "$$ \\large \\theta_j := \\theta_j - \\eta \\frac{\\partial J(\\mathbf{\\theta})}{\\partial \\theta_j} $$\n",
    "\n"
   ]
  },
  {
   "cell_type": "code",
   "execution_count": 7,
   "metadata": {},
   "outputs": [],
   "source": [
    "def update_param(self):\n",
    "    self.W = self.W - self.lr*np.dot(self.X.T,(self.y-self.y_proba))*(-1/self.n_samples)\n",
    "    "
   ]
  },
  {
   "cell_type": "markdown",
   "metadata": {},
   "source": [
    "\n",
    "That's it.The entire algorithm in short is as follows:\n",
    "> * Initialize parameters with random values\n",
    "> * LOOP till the stopping criteria is met:\n",
    "    1. Compute the hypothesis function\n",
    "    2. Compute loss\n",
    "    3. Compute partial derivative w.r.t parameters\n",
    "    4. Update parameters\n",
    "    5. Repeat\n",
    "\n",
    "In my [previous post on Linear Regression](https://dasaditi.github.io/Linear-Regression-With-Python/) I have provided pointers on how to determine the stopping criteria."
   ]
  },
  {
   "cell_type": "markdown",
   "metadata": {},
   "source": [
    "## The complete Logistic Regression Algorithm in NumPy"
   ]
  },
  {
   "cell_type": "markdown",
   "metadata": {},
   "source": [
    "Here is the complete implementation of our home-grown Logistic Regression. We will go through 20,000 iterations and use a constant learning rate of 0.03."
   ]
  },
  {
   "cell_type": "code",
   "execution_count": 8,
   "metadata": {},
   "outputs": [],
   "source": [
    "#Logistic regression algorithm\n",
    "\n",
    "class LogisticRegression:\n",
    "    def __init__(self,X,y,lr=0.03,n_iter=20000):\n",
    "        self.n_samples = len(y)\n",
    "        self.W= np.random.rand(X.shape[1],1)\n",
    "        self.X=X\n",
    "        self.y=y.reshape(y.shape[0],1)\n",
    "        self.lr=lr\n",
    "        self.iter=n_iter\n",
    "        self.history = np.zeros((n_iter,1))\n",
    "   \n",
    "    def sigmoid(self,z):\n",
    "        return 1.0/(1.0 + np.exp(-z))\n",
    "\n",
    "    #Compute cost\n",
    "    def compute_cost(self):\n",
    "        cost = -self.y*np.log(self.y_proba) - (1-self.y)*np.log(1-self.y_proba)\n",
    "        loss=np.mean(cost)    \n",
    "        return loss\n",
    "    \n",
    "    #Update the coefficients\n",
    "    def update_param(self):\n",
    "        self.W = self.W - self.lr*np.dot(self.X.T,(self.y-self.y_proba))*(-1/self.n_samples)\n",
    "        \n",
    "    def fit(self):\n",
    "        for i in range(self.iter):\n",
    "            self.y_proba=self.sigmoid(np.dot(self.X,self.W))\n",
    "            \n",
    "            loss = self.compute_cost()\n",
    "            self.history[i]=loss\n",
    "            self.update_param()\n",
    "            i=i+1\n",
    "            \n",
    "        print(\"Updated params for logistic regression: \",self.W.reshape(self.W.shape[0],))\n",
    "     \n",
    "    def predict(X_predict):        \n",
    "        y_predict = sigmoid(np.dot(self.X,self.W))\n",
    "        if y_prob >= 0.5 :\n",
    "            y_predict = 1\n",
    "        else :\n",
    "            y_predict = 0\n",
    "        return y_predict\n",
    "    \n",
    "    def getAllLoss(self):\n",
    "        return self.history"
   ]
  },
  {
   "cell_type": "code",
   "execution_count": 9,
   "metadata": {},
   "outputs": [
    {
     "name": "stdout",
     "output_type": "stream",
     "text": [
      "Updated params for logistic regression:  [ 1.01573796 -0.46994268  1.90845992]\n"
     ]
    }
   ],
   "source": [
    "lr = LogisticRegression(x_train,y_train)\n",
    "lr.fit()"
   ]
  },
  {
   "cell_type": "code",
   "execution_count": 10,
   "metadata": {},
   "outputs": [
    {
     "data": {
      "image/png": "[encoded data removed]",
      "text/plain": [
       "<Figure size 432x288 with 1 Axes>"
      ]
     },
     "metadata": {
      "needs_background": "light"
     },
     "output_type": "display_data"
    }
   ],
   "source": [
    "%matplotlib inline\n",
    "import matplotlib.pyplot as plt\n",
    "\n",
    "history= lr.getAllLoss()\n",
    "plt.plot(range(len(history)), history, 'r')\n",
    "\n",
    "plt.title(\"Convergence Graph of Loss Function\")\n",
    "plt.xlabel(\"Number of Iterations\")\n",
    "plt.ylabel(\"Cost\")\n",
    "plt.show()"
   ]
  },
  {
   "attachments": {},
   "cell_type": "markdown",
   "metadata": {},
   "source": [
    "## Comparing Our Implementation with Sklearn's Logistic Regression\n",
    "\n",
    "We will now run our training data on sklearn logistic regression and compare the results. One thing worth mentioning is logistic regression in sklearn uses a different optimization technique other that gradient descent but it will be interesting to see how it performs in contrast to gradient descent. Since sklearn's logistic regression doesn't use gradient descent it doesn't use learning rate either.  Also, since we had concatenated 1 in our data model, sklearn will treat it as a separate feature and will calculate the coefficient and hence intercept is set to false. And lastly since we haven't used regularization in our own implementation, I will turn off regularization in sklearn implementation too."
   ]
  },
  {
   "cell_type": "code",
   "execution_count": 11,
   "metadata": {},
   "outputs": [
    {
     "name": "stdout",
     "output_type": "stream",
     "text": [
      "updated params for sklearn logistic regression:  [[ 1.01573879 -0.4699424   1.90845942]]\n"
     ]
    }
   ],
   "source": [
    "from sklearn.linear_model import LogisticRegression\n",
    "clf = LogisticRegression(penalty='none',fit_intercept=False,max_iter=20000)\n",
    "\n",
    "clf.fit(x_train, y_train)\n",
    "print(\"updated params for sklearn logistic regression: \",clf.coef_)"
   ]
  },
  {
   "cell_type": "markdown",
   "metadata": {},
   "source": [
    "As you see the parameters calculated by our program match with sklearn's model up to 4 digits of decimal. Hurray!!! We will also take a look at the Stochastic Gradient Descent algorithm which is based on gradient descent."
   ]
  },
  {
   "cell_type": "markdown",
   "metadata": {},
   "source": [
    "## Comparing Our Implementation with Sklearn's Stochastic Gradient Descent"
   ]
  },
  {
   "attachments": {},
   "cell_type": "markdown",
   "metadata": {},
   "source": [
    "Stochastic Gradient Descent behaves as Logistic Regression if you pass the loss parameter to 'log'. By default, it updates model parameters after each pass of the training example. I tricked the algorithm to believe that it is running a mini batch but with the entire dataset. That way it's going to be consistent with our implementation. Also, I set the learning rate as 0.03 and number of iteration as 20,000 , same as our implementation."
   ]
  },
  {
   "cell_type": "code",
   "execution_count": 12,
   "metadata": {},
   "outputs": [
    {
     "name": "stdout",
     "output_type": "stream",
     "text": [
      "updated params for sklearn Stochastic gradient descent classifier:  [[ 1.01293211 -0.48921245  1.9178469 ]]\n"
     ]
    }
   ],
   "source": [
    "from sklearn.linear_model import SGDClassifier\n",
    "sgdclf = SGDClassifier(loss=\"log\", penalty=\"none\", learning_rate='constant',eta0=0.03,fit_intercept=False, max_iter=20000)\n",
    "for i in range(20000):\n",
    "    sgdclf.partial_fit(x_train, y_train,np.unique(y_train))\n",
    "\n",
    "print(\"updated params for sklearn Stochastic gradient descent classifier: \",sgdclf.coef_)"
   ]
  },
  {
   "cell_type": "markdown",
   "metadata": {},
   "source": [
    "As you see the parameters calculated by SGD is very close to our program even though it is not an exact match.\n",
    "\n",
    "Happy coding!"
   ]
  }
 ],
 "metadata": {
  "kernelspec": {
   "display_name": "Python 3",
   "language": "python",
   "name": "python3"
  },
  "language_info": {
   "codemirror_mode": {
    "name": "ipython",
    "version": 3
   },
   "file_extension": ".py",
   "mimetype": "text/x-python",
   "name": "python",
   "nbconvert_exporter": "python",
   "pygments_lexer": "ipython3",
   "version": "3.7.3"
  },
  "pycharm": {
   "stem_cell": {
    "cell_type": "raw",
    "source": [],
    "metadata": {
     "collapsed": false
    }
   }
  }
 },
 "nbformat": 4,
 "nbformat_minor": 2
}