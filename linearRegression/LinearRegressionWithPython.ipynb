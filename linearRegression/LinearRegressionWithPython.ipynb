{
 "cells": [
  {
   "cell_type": "markdown",
   "metadata": {},
   "source": [
    "# Implementing Linear Regression Algorithm with Numpy\n",
    "  "
   ]
  },
  {
   "cell_type": "markdown",
   "metadata": {},
   "source": [
    "## Introduction"
   ]
  },
  {
   "cell_type": "markdown",
   "metadata": {},
   "source": [
    "Linear Regression is a method for modeling the relationship between one or more independent or features variables and one dependent or target variable.\n",
    "There are two ways of looking at a Regression problem:\n",
    "*\t**The statistician’s paradigm:** The goal is to understand the underlying causal effect of changes in an independent variable on changes in a dependent variable. For example, you may want to model the impact of an additional year of schooling on latter's wages. Or maybe the effect of a \\$ X discount on customers' propensity to adopt a product.\n",
    "\n",
    "*\t**The predictive paradigm:** Common in machine learning. Used for prediction and pattern recognition.\n"
   ]
  },
  {
   "cell_type": "markdown",
   "metadata": {},
   "source": [
    "There are many useful resources explaining the concept behind regression so, I won't be going into much detail here. I will only cover the points necessary to understand the math and implement it yourself without the help of any machine learning library. A typical regression equation looks like this: \n",
    "\n",
    "$$ \\Large y = \\underbrace{\\alpha + \\beta_1 \\times x_1 + \\beta_2 \\times x_2 + \\cdots + \\beta_n \\times x_n}_{\\text{$\\widehat{y}$}} + \\epsilon \\tag{1.0}$$"
   ]
  },
  {
   "cell_type": "markdown",
   "metadata": {},
   "source": [
    "Here , the right hand side variables ($x_1,x_2\\cdots etc.$) are called the feature variables which along with their respective weights/coefficients ($\\alpha,\\beta_1,\\beta_2\\cdots etc.$) tries to predict the best fit model. When we know the value of these coefficients, we can make predictions about the data that we haven't seen before. In other words, we can infer the target value from feature values.\n",
    "$y$ is the actual outcome variable you are trying to measure. $\\widehat{y}$ is the predicted outcome.\n",
    "\n",
    "> There is always some scope of error between the actual target value and the predicted value. The goal of Linear Regression is to find the coefficients in order to minimize this error $\\epsilon$."
   ]
  },
  {
   "cell_type": "markdown",
   "metadata": {},
   "source": [
    "## Matrix-Vector Representation of Linear Regression equation"
   ]
  },
  {
   "cell_type": "markdown",
   "metadata": {},
   "source": [
    "Before we dive into the math let's see if we can visualize the above equation (1.0) in a matrix-vector representation. The above equation represents one single record of data. Let's rewrite the equation in a little different way. The intercept $\\alpha$ can be thought of as a coefficient of x where x=1.\n",
    "\n",
    "$$ \\begin{align}\\large \\widehat{y} = \\alpha\\times 1+ \\beta_1 \\times x_1 + \\beta_2 \\times x_2 + \\cdots + \\beta_n \\times x_n \\end{align} \\tag{1.1}$$\n"
   ]
  },
  {
   "cell_type": "markdown",
   "metadata": {},
   "source": [
    "\\begin{equation}\n",
    "\\begin{bmatrix}\n",
    "\\widehat{y}\n",
    "\\end{bmatrix}_{1 \\times 1}=\n",
    "  \\begin{bmatrix}\n",
    "    1 & x_1 & x_2 & x_3 & ... & x_n \n",
    "  \\end{bmatrix}_{1 \\times n+1}\n",
    "  %\n",
    "  \\begin{bmatrix}\n",
    "    \\alpha \\\\\n",
    "    \\beta_1 \\\\\n",
    "    \\beta_2 \\\\\n",
    "    \\beta_3 \\\\\n",
    "     \\vdots \\\\\n",
    "    \\beta_n \\\\\n",
    "  \\end{bmatrix}_{n+1 \\times 1} \\tag{1.2}\n",
    "\\end{equation}\n",
    "\n",
    "Now, if we do a dot product of eq(1.2) we will get back eq(1.1)."
   ]
  },
  {
   "cell_type": "markdown",
   "metadata": {},
   "source": [
    "In a typical regression problem, we will have multitude of data. If we have m records with n feature each , the matrix-vector representation of the equation will look like this.\n",
    "\\begin{equation}\n",
    "\\begin{bmatrix}\n",
    "\\widehat{y_1} \\\\\n",
    "\\widehat{y_2} \\\\\n",
    "\\widehat{y_3} \\\\\n",
    "\\vdots \\\\\n",
    "\\widehat{y_m} \n",
    "\\end{bmatrix}_{ m \\times 1}=\n",
    "  \\begin{bmatrix}\n",
    "    1 & x_{11} & x_{12} & x_{13} & ... & x_{1n} \\\\\n",
    "    1 & x_{21} & x_{22} & x_{23} & ... & x_{2n} \\\\\n",
    "    1 & x_{31} & x_{32} & x_{33} & ... & x_{3n} \\\\\n",
    "    \\vdots \\\\\n",
    "    1 & x_{m1} & x_{m2} & x_{m3} & ... & x_{mn} \\\\\n",
    "  \\end{bmatrix}_{ m \\times n+1}\n",
    "  %\n",
    "  \\begin{bmatrix}\n",
    "    \\alpha \\\\\n",
    "    \\beta_1 \\\\\n",
    "    \\beta_2 \\\\\n",
    "    \\beta_3 \\\\\n",
    "     \\vdots \\\\\n",
    "    \\beta_n \\\\\n",
    "  \\end{bmatrix}_{ n+1 \\times 1} \\tag{1.3}\n",
    "\\end{equation}"
   ]
  },
  {
   "cell_type": "markdown",
   "metadata": {},
   "source": [
    "Why did I emphasize on such representation? Because rather than calculating each weight individually, you will have a vector representation of the weights and calculate them in one shot much more efficiently. These weights are called parameters in machine learning lingo. Notice that the weight vector doesn't change its dimension with more data, that means the number of parameters to calculate doesn't change with the number of records."
   ]
  },
  {
   "cell_type": "markdown",
   "metadata": {},
   "source": [
    "## Gradient Descent Algorithm"
   ]
  },
  {
   "cell_type": "markdown",
   "metadata": {},
   "source": [
    "As I mentioned previously, the goal of regression problem is to calculate the weights such that the error between the predicted y and the actual y is minimum.\n",
    "\n",
    "Even though Linear Regression has an analytical solution $\\theta=(X^TX)^{-1}X^TY$ where $\\theta$ is a vector representing all the coefficients we need for each feature, for large feature sets the computation can get very complex. Also, for huge dataset, the data may not fit in the memory.\n",
    "\n",
    "The alternate solution to calculate parameters is based on maximum likelihood estimation. Maximum likelihood estimation is a method that determines values for the parameters of a model such that they maximize the likelihood that the process described by the model produced the data that were actually observed. \n",
    "\n",
    "Gradient descent is one such maximum likelihood estimation algorithm.\n",
    "\n",
    "The main reason why gradient descent is used for linear regression is that it is computationally cheaper (faster) to find the solution using the gradient descent in some cases. It is beyond the scope of this post to fully explain how gradient descent works."
   ]
  },
  {
   "cell_type": "markdown",
   "metadata": {},
   "source": [
    "## Steps to estimate parameters"
   ]
  },
  {
   "cell_type": "markdown",
   "metadata": {},
   "source": [
    "Here are the steps we need to go through to compute the parameters. Each step will be followed by the corresponding code snippets. The entire code can be found at the end."
   ]
  },
  {
   "cell_type": "markdown",
   "metadata": {},
   "source": [
    "### Step 1. Define your model and gather your data\n",
    "This is a very important step where you identify your dependent and feature variables.\n",
    "> Before you run the gradient descent algorithm on your dataset, you normalize the data. Normalization is a technique often applied as part of data preparation in machine learning pipeline which typically means rescaling the values into a range of [0,1] to boost the accuracy while lowering the cost (error). When features are all on the same scale, they will contribute equally to determining the direction for greatest gradient descent.  \n"
   ]
  },
  {
   "cell_type": "markdown",
   "metadata": {},
   "source": [
    "For the purpose of this post, let's assume we have a dataset of 100 records and two features. We will not use any existing dataset, rather we will synthetically generate our own data and randomly split it in 80:20 ratio between train and test set. For the two features, we have to calculate two coefficients and an intercept. The equation will look like: $$ \\begin{align}\\large \\widehat{y} = \\alpha\\times 1+ \\beta_1 \\times x_1 + \\beta_2 \\times x_2 \\end{align} $$\n",
    "The labels are generated taking $\\alpha=2$ ,$\\beta_1=0.1$,$\\beta_2=0.4$ and some Gaussian noise."
   ]
  },
  {
   "cell_type": "code",
   "execution_count": 3,
   "metadata": {},
   "outputs": [],
   "source": [
    "# Data Generation\n",
    "import numpy as np\n",
    "\n",
    "np.random.seed(42)\n",
    "X = np.random.rand(100, 2)\n",
    "#Stack another vector of 1 horizontally\n",
    "ones = np.ones(100).reshape(100,1)\n",
    "X= np.hstack((ones,X))\n",
    "y = 2 +  .1 * np.random.randn(100, 1) +.4 * np.random.randn(100, 1)\n",
    "\n",
    "#Normalize the data \n",
    "mean = np.mean(X)\n",
    "sigma = np.std(X)\n",
    "X = (X-mean) / sigma\n",
    "\n",
    "# Shuffles the indices\n",
    "idx = np.arange(100)\n",
    "np.random.shuffle(idx)\n",
    "\n",
    "# Uses first 80 random indices for train\n",
    "train_idx = idx[:80]\n",
    "# Uses the remaining indices for validation\n",
    "val_idx = idx[80:]\n",
    "\n",
    "# Generates train and validation sets\n",
    "x_train, y_train = X[train_idx], y[train_idx]\n",
    "x_val, y_val = X[val_idx], y[val_idx]"
   ]
  },
  {
   "cell_type": "markdown",
   "metadata": {},
   "source": [
    "Notice, we initially generated X with 2 columns (for two features) and 100 rows (number of records) Then, we concatenated 1 to all X values for the intercept. The data is also normalized with mean and std. deviation before splitting into train and test set. At this point *y is $100\\times 1$ vector and X* is $100\\times3$ matrix.\n"
   ]
  },
  {
   "cell_type": "markdown",
   "metadata": {},
   "source": [
    "### Step 2. Initialize the Parameters\n",
    "Once we have identified your feature variables, we have an idea how many parameters you need to train. Since we have two feature and one intercept there are three parameters to be trained. The dimension of weight vector is $3\\times1$. Initialize the parameters to random values to begin with."
   ]
  },
  {
   "cell_type": "code",
   "execution_count": 4,
   "metadata": {},
   "outputs": [
    {
     "data": {
      "text/plain": [
       "array([[0.37673897],\n",
       "       [0.7495783 ],\n",
       "       [0.39298945]])"
      ]
     },
     "execution_count": 4,
     "metadata": {},
     "output_type": "execute_result"
    }
   ],
   "source": [
    "W = np.random.rand(X.shape[1],1)\n",
    "W"
   ]
  },
  {
   "cell_type": "markdown",
   "metadata": {},
   "source": [
    "### Step 3. Define the loss/cost function that you want to minimize"
   ]
  },
  {
   "cell_type": "markdown",
   "metadata": {},
   "source": [
    "Ideally, the loss is the difference between the predicted value and the actual value.\n",
    "$$\\large error = (y_i - \\hat{y_i})$$\n",
    "\n",
    "For the linear regression problem, the loss is given by the Mean Square Error (MSE), that is, the average of all squared differences between labels (y) and predictions ($\\widehat{y}$).We take the square of the errors so that the positive and negative error doesn’t cancel out.N is the number of records, in our case N=100.\n",
    "\n",
    "$$\\large MSE  = \\frac{1}{N}\\sum_{n=1}^{N}(y - \\widehat{y})^2$$\n",
    "\n",
    "\n",
    "\n",
    "    "
   ]
  },
  {
   "cell_type": "code",
   "execution_count": 5,
   "metadata": {},
   "outputs": [],
   "source": [
    "def compute_cost(y,y_hat):\n",
    "    loss = np.mean((y-y_hat)**2)\n",
    "    return loss"
   ]
  },
  {
   "cell_type": "markdown",
   "metadata": {},
   "source": [
    "### Step 4.  Compute the Gradients\n",
    "A gradient is a partial derivative that tells you how much a given quantity changes when you slightly vary some other quantity. In our case, how much does our MSE loss change when we vary each one of our parameters. We calculate the partial derivative of loss with respect to each parameter.\n",
    "\n",
    "$$ MSE  = \\frac{1}{N}\\sum_{n=1}^{N}(y - \\widehat{y})^2$$\n",
    "\n",
    "$$\\large MSE  = \\frac{1}{N}\\sum_{n=1}^{N}(y - (\\alpha + \\beta_1 * x_1 + \\beta_2 * x_2))^2$$\n",
    "\n",
    "$$ \\large \\frac{\\partial MSE}{\\partial \\alpha} = \\frac{1}{N}\\sum_{n=1}^{N}(2).(y - (\\alpha + \\beta_1 * x_1 + \\beta_2 * x_2)).(-1) = -\\frac{2}{N}\\sum_{n=1}^{N}(y - \\widehat{y})) $$\n",
    "\n",
    "$$ \\large \\frac{\\partial MSE}{\\partial \\beta_1} = \\frac{1}{N}\\sum_{n=1}^{N}(2).(y - (\\alpha + \\beta_1 * x_1 + \\beta_2 * x_2)).(-x_1) = -\\frac{2}{N}\\sum_{n=1}^{N}x_1(y - \\widehat{y})) $$\n",
    "\n",
    "$$ \\large \\frac{\\partial MSE}{\\partial \\beta_2} = \\frac{1}{N}\\sum_{n=1}^{N}(2).(y - (\\alpha + \\beta_1 * x_1 + \\beta_2 * x_2)).(-x_2) = -\\frac{2}{N}\\sum_{n=1}^{N}x_2(y - \\widehat{y})) $$  \n",
    "\n",
    "Here, we calculated the partial derivate individually by hand for each parameter. But in reality, we will calculate in one shot through  NumPy."
   ]
  },
  {
   "cell_type": "code",
   "execution_count": 6,
   "metadata": {},
   "outputs": [],
   "source": [
    "def partial_derivative(X,y,y_hat):\n",
    "    n_samples=len(y)\n",
    "    pd= np.dot(X.T,(y-y_hat))*(-2/n_samples)\n",
    "    return pd"
   ]
  },
  {
   "cell_type": "markdown",
   "metadata": {},
   "source": [
    "<img src=\"images/LR2.png\" alt=\"Vector Representation of Partial Derivative\"/>"
   ]
  },
  {
   "cell_type": "markdown",
   "metadata": {},
   "source": [
    "\n"
   ]
  },
  {
   "cell_type": "markdown",
   "metadata": {},
   "source": [
    "As you see above the how easily you can calculate the partial derivative through NumPy."
   ]
  },
  {
   "cell_type": "markdown",
   "metadata": {},
   "source": [
    "### Step 5: Update the Parameters\n",
    "In the final step, we use the gradients to update the parameters. Since we are trying to minimize our losses, we reverse the sign of the gradient for the update.\n",
    "There is still another parameter to consider: the ***learning rate***, denoted by the Greek letter eta (that looks like the letter n), which is the multiplicative factor that we need to apply to the gradient for the parameter update. The learning rate is a tuning parameter in an optimization algorithm that determines the step size at each iteration while moving toward a minimum of a loss function.\n",
    "\n",
    "$$ \\large \\alpha = \\alpha - \\eta \\frac{\\partial MSE}{\\partial \\alpha} $$\n",
    "\n",
    "$$ \\large \\beta_1 = \\beta_1 - \\eta \\frac{\\partial MSE}{\\partial \\beta_1} $$\n",
    "$$ \\large \\beta_2 = \\beta_2 - \\eta \\frac{\\partial MSE}{\\partial \\beta_2} $$\n",
    "\n",
    "> **Learning rate is a hyper-parameter that controls how much we are adjusting the weights of our model with respect to the loss gradient. The lower the value, the slower we travel along the downward slope.**"
   ]
  },
  {
   "cell_type": "markdown",
   "metadata": {},
   "source": [
    "## The Complete Algorithm\n",
    "Let's write down the entire algorithm \n",
    "* Initialize parameters with random values\n",
    "> * LOOP till the stopping criteria is met:\n",
    "    1. Compute the predicted y\n",
    "    2. Compute loss\n",
    "    3. Compute partial derivative w.r.t parameters\n",
    "    4. Update parameters\n",
    "    5. Repeat"
   ]
  },
  {
   "cell_type": "code",
   "execution_count": 7,
   "metadata": {},
   "outputs": [],
   "source": [
    " def fit(n_iter,lr):\n",
    "    for i in range(n_iter):\n",
    "        y_hat=np.dot(X,W)\n",
    "        loss = compute_cost(y,y_hat)\n",
    "        pd=partial_derivative(X,y,y_hat)\n",
    "        W = W - lr*pd\n",
    "        i=i+1"
   ]
  },
  {
   "attachments": {},
   "cell_type": "markdown",
   "metadata": {},
   "source": [
    "### Stopping criterion and update rule for Gradient Descent\n",
    "\n",
    "There are a few options on deciding when to stop updating parameters.\n",
    "\n",
    "*\tDefine a threshold and stop when the loss function for the training data is smaller than a threshold.\n",
    "*\tDefine a threshold and stop when the loss function for the validation data is smaller than a threshold.\n",
    "*\tWhen the total absolute difference in parameters w is smaller than a threshold.\n",
    "*\tSometimes, we don't care if we have the optimal parameters. We just want to improve the parameters we originally had. In such case, it's reasonable to preset a number of iterations over the training data and stop after that regardless of whether the objective function actually converged.\n"
   ]
  },
  {
   "cell_type": "markdown",
   "metadata": {},
   "source": [
    "## Linear Regression in NumPy"
   ]
  },
  {
   "cell_type": "markdown",
   "metadata": {},
   "source": [
    "Let's run the Linear Regression on our dataset. We will use 2000 iterations as our stopping criteria and use learning rate as 0.01."
   ]
  },
  {
   "cell_type": "code",
   "execution_count": 8,
   "metadata": {},
   "outputs": [],
   "source": [
    "#Class definition of Linear Regression\n",
    "class LinearRegression:\n",
    "    def __init__(self,X,y,lr=0.01,n_iter=2000):\n",
    "        self.n_samples = len(y)\n",
    "        self.W= np.random.rand(X.shape[1],1)\n",
    "        self.X=X\n",
    "        self.y=y\n",
    "        self.lr=lr\n",
    "        self.iter=n_iter\n",
    "        self.history = np.zeros((n_iter,1))\n",
    "   \n",
    "    #Compute cost\n",
    "    def compute_cost(self):\n",
    "        loss = np.mean((self.y-self.y_hat)**2)\n",
    "        return loss\n",
    "    \n",
    "    #Update the coefficients\n",
    "    def update_param(self):\n",
    "        self.W = self.W - self.lr*np.dot(self.X.T,(self.y-self.y_hat))*(-2/self.n_samples)\n",
    "        \n",
    "    def fit(self):\n",
    "        for i in range(self.iter):\n",
    "            self.y_hat=np.dot(self.X,self.W)\n",
    "            loss = self.compute_cost()\n",
    "            self.history[i]=loss\n",
    "            self.update_param()\n",
    "            i=i+1\n",
    "        print(\"Updated params for numpy regression: \",self.W.reshape(3,))\n",
    "     \n",
    "    def predict(X_predict):        \n",
    "        y_predict = np.dot(X_predict,self.W)\n",
    "        return y_predict\n",
    "    \n",
    "    def getAllLoss(self):\n",
    "        return self.history"
   ]
  },
  {
   "cell_type": "code",
   "execution_count": 9,
   "metadata": {},
   "outputs": [
    {
     "name": "stdout",
     "output_type": "stream",
     "text": [
      "Updated params for numpy regression:  [1.99931273 0.00640892 0.01194574]\n"
     ]
    }
   ],
   "source": [
    "lr = LinearRegression(x_train,y_train)\n",
    "lr.fit()\n"
   ]
  },
  {
   "cell_type": "markdown",
   "metadata": {},
   "source": [
    "Now, Lets plot the graph to see how the losses have been behaving with each iteration."
   ]
  },
  {
   "cell_type": "code",
   "execution_count": 11,
   "metadata": {},
   "outputs": [
    {
     "data": {
      "image/png": "[encoded data removed]",
      "text/plain": [
       "<Figure size 432x288 with 1 Axes>"
      ]
     },
     "metadata": {
      "needs_background": "light"
     },
     "output_type": "display_data"
    }
   ],
   "source": [
    "%matplotlib inline\n",
    "import matplotlib.pyplot as plt\n",
    "\n",
    "history= lr.getAllLoss()\n",
    "plt.plot(range(len(history)), history, 'r')\n",
    "\n",
    "plt.title(\"Convergence Graph of Loss Function\")\n",
    "plt.xlabel(\"Number of Iterations\")\n",
    "plt.ylabel(\"Cost\")\n",
    "plt.show()"
   ]
  },
  {
   "cell_type": "markdown",
   "metadata": {},
   "source": [
    "We can clearly see that the cost decreased drastically with more iterations. The gradient descent function returned the optimal parameter values, consequently, we can now use them to predict new target values."
   ]
  },
  {
   "cell_type": "markdown",
   "metadata": {},
   "source": [
    "## Comparing Our Implementation with Sklearn's Linear Regression\n",
    "\n",
    "We will now run our training data on sklearn model and compare the results. One thing worth mentioning is since we had concatenated 1 in our model, sklearn will treat it as a coefficient and hence intercept is set to false."
   ]
  },
  {
   "cell_type": "code",
   "execution_count": 12,
   "metadata": {},
   "outputs": [
    {
     "name": "stdout",
     "output_type": "stream",
     "text": [
      "updated params for sklearn regression:  [[1.99931284 0.00640898 0.01194582]]\n"
     ]
    }
   ],
   "source": [
    "from sklearn.linear_model import LinearRegression\n",
    "linr = LinearRegression(fit_intercept=False)\n",
    "linr.fit(x_train, y_train)\n",
    "print(\"updated params for sklearn regression: \",linr.coef_)"
   ]
  },
  {
   "cell_type": "markdown",
   "metadata": {},
   "source": [
    "As you see the parameters calculated by our program match with sklearn's model up to 6 digits of decimal."
   ]
  }
 ],
 "metadata": {
  "kernelspec": {
   "display_name": "Python 3",
   "language": "python",
   "name": "python3"
  },
  "language_info": {
   "codemirror_mode": {
    "name": "ipython",
    "version": 3
   },
   "file_extension": ".py",
   "mimetype": "text/x-python",
   "name": "python",
   "nbconvert_exporter": "python",
   "pygments_lexer": "ipython3",
   "version": "3.7.3"
  },
  "pycharm": {
   "stem_cell": {
    "cell_type": "raw",
    "source": [],
    "metadata": {
     "collapsed": false
    }
   }
  }
 },
 "nbformat": 4,
 "nbformat_minor": 2
}