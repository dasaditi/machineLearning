{
 "cells": [
  {
   "cell_type": "markdown",
   "metadata": {},
   "source": [
    "\n",
    "<h1> W261 Final Project - Clickthrough Rate Prediction</h1>\n",
    "\n"
   ]
  },
  {
   "cell_type": "markdown",
   "metadata": {},
   "source": [
    "## Table of Contents\n",
    "\n",
    "* __Notebook Setup__\n",
    "* __Section 1__ - Question Formulation\n",
    "* __Section 2__ - Algorithm Explanation\n",
    "* __Section 3__ - EDA & Challenges\n",
    "* __Section 4__ - Algorithm Implementation\n",
    "* __Section 5__ - Course Concepts"
   ]
  },
  {
   "cell_type": "markdown",
   "metadata": {},
   "source": [
    "# Notebook Setup"
   ]
  },
  {
   "cell_type": "code",
   "execution_count": 1,
   "metadata": {},
   "outputs": [],
   "source": [
    "# imports\n",
    "import re\n",
    "import ast\n",
    "import time\n",
    "import numpy as np\n",
    "import pandas as pd\n",
    "import seaborn as sns\n",
    "import networkx as nx\n",
    "import matplotlib.pyplot as plt\n",
    "import pyspark\n",
    "from pyspark.sql.functions import isnan, when, count, col ,trim,struct, udf\n",
    "import pyspark.sql.functions as F\n",
    "from pyspark.sql.types import IntegerType\n",
    "from pyspark.sql import Window\n",
    "from pyspark.sql.types import DoubleType\n",
    "import math\n",
    "from pyspark.ml.feature import VectorAssembler\n",
    "from pyspark.ml.feature import StandardScaler\n",
    "from pyspark.ml.feature import FeatureHasher\n",
    "from pyspark.ml.feature import PCA as PCAml\n",
    "from pyspark.ml import Pipeline\n",
    "from pyspark.ml.classification import LogisticRegression"
   ]
  },
  {
   "cell_type": "code",
   "execution_count": 2,
   "metadata": {},
   "outputs": [],
   "source": [
    "%reload_ext autoreload\n",
    "%autoreload 2"
   ]
  },
  {
   "cell_type": "code",
   "execution_count": 3,
   "metadata": {},
   "outputs": [],
   "source": [
    "# store path to notebook\n",
    "PWD = !pwd\n",
    "PWD = PWD[0]"
   ]
  },
  {
   "cell_type": "code",
   "execution_count": 4,
   "metadata": {},
   "outputs": [],
   "source": [
    "# start Spark Session\n",
    "from pyspark.sql import SparkSession\n",
    "app_name = \"finalProj_notebook\"\n",
    "master = \"local[*]\"\n",
    "config = pyspark.SparkConf().setAll([('spark.executor.memory', '16g'), ('spark.executor.cores', '6'), ('spark.cores.max', '6'), ('spark.driver.memory','16g'), ('spark.local.dir', '/sparkTemp')])\n",
    "spark = SparkSession\\\n",
    "        .builder\\\n",
    "        .config(conf=config)\\\n",
    "        .appName(app_name)\\\n",
    "        .master(master)\\\n",
    "        .getOrCreate()\n",
    "sc = spark.sparkContext"
   ]
  },
  {
   "cell_type": "markdown",
   "metadata": {},
   "source": [
    "# Section 1 - Question Formulation"
   ]
  },
  {
   "cell_type": "markdown",
   "metadata": {},
   "source": [
    "The goal of this analysis to develop a working scalable predictive model that helps advertising technologies programmatically determine who to show a specific ad, with the goal of maximizing clicks. This analysis is important because advertising platforms seek to optimize the success of display ads for their clients, and their bottom line is improved if more ad viewers are clicking on ads. Companies generally care about click-through-rates (CTR) because it results in more user traffic to their business application, resulting in higher revenue. In advertising platforms, the pricing structure is also often based on clicks rather than ad views, so increasing CTR is economical. In this analysis, we seek to answer the following question:  \n",
    "\n",
    "Which future users who land on our website are most likely to click on a specific ad? \n",
    "\n",
    "The predictive model that we are developing in this project is meant to predict whether or not a future user will click on an ad. The data we are using for this prediction is a combination of numeric and categorical data, representing various attributes about the user who will view the ad as well as the attributes about the ad itself. \n",
    "\n",
    "In order for such a model to be practically applied, it would need to be retrained frequently and optimized to run predictions very fast. The prediction itself would need to be within milliseconds because it would be part of a real-time ad bidding system. While the retraining would need to occur frequently (e.g., daily) in order for the predictions to keep up with new trends, a more frequent training would be more ideal, requiring even more complex performance improvements. "
   ]
  },
  {
   "cell_type": "markdown",
   "metadata": {},
   "source": [
    "# Section 2 - Algorithm Explanation\n",
    "### 2.1 Create our own toy example that matches the dataset provided and use this toy example to explain the math behind the algorithm that you will perform."
   ]
  },
  {
   "cell_type": "markdown",
   "metadata": {},
   "source": [
    "Logistic Regression is a popular method to predict a categorical response. In this project, we are implementing a logistic regression model to predict the click-through-rate based on the data provided by Criteo Labs. It is a special case of Generalized Linear models that predicts the probability of the outcomes. The predicted probability, $\\hat{p}_i$, that it belongs to a given class is given by equation below: \n",
    "\n",
    "\\begin{equation}\\\n",
    "\\hat{p}_i = \\frac{1}{1+\\exp \\left(-\\mathbf{\\theta}^{T} \\cdot \\mathbf{x}_i\\right)}\n",
    "\\end{equation}\n",
    "\n",
    "where $\\theta := \\begin{bmatrix} b \\\\ \\mathbf{w} \\end{bmatrix}$ and  $\\mathbf{x}_i := \\begin{bmatrix} 1 \\\\ x_i \\end{bmatrix}$, and $\\mathbf{w}$ is the vector of weights, $x_i$ is an input vector regarding Observation $i$, and $b$ is the bias term. .\n",
    "\n",
    "Just like any other regression solution using gradient descent, we estimate weights by minimizing the cost function. Mean squared error (MSE) is not an appropriate cost function for a logistic regression model because it's not a convext function. Instead, we use average log loss as our cost function.  \n",
    "\n",
    "$$ J(\\mathbf{\\theta}) = \\frac{1}{n} \\displaystyle\\sum_{i=1}^{n} \\text{LogLoss}_i$$  \n",
    "where,   \n",
    "$$ \\text{LogLoss}_i = -y_i \\cdot \\log(\\hat{p}_i) - (1-y_i) \\cdot log(1-\\hat{p}_i)$$\n",
    "\n",
    "We derive the gradient below:\n",
    "\n",
    "Let $z = \\mathbf{\\theta}^{T} \\cdot \\mathbf{x}_i$\n",
    "\n",
    "$$\n",
    "\\begin{align}\n",
    "\\nabla_{\\mathbf{\\theta}} J(\\mathbf{\\theta}) &= \\frac{1}{n} \\displaystyle\\sum_{i=1}^{n} \\frac{\\partial \\text{LogLoss}_i}{\\partial \\mathbf{\\theta}} \\\\\n",
    "&= \\frac{1}{n} \\displaystyle\\sum_{i=1}^{n} \\Big(- y_i \\cdot \\frac{1}{\\hat{p}_i} + (1-y_i) \\cdot \\frac{1}{1-\\hat{p}_i} \\Big) \\cdot \\frac{\\partial \\hat{p}_i}{\\partial z} \\cdot \\frac{\\partial z}{\\partial \\mathbf{\\theta}} \\\\\n",
    "&= \\frac{1}{n} \\displaystyle\\sum_{i=1}^{n} \\Big(- y_i \\cdot \\frac{1}{\\hat{p}_i} + (1-y_i) \\cdot \\frac{1}{1-\\hat{p}_i} \\Big) \\cdot \\big[ \\hat{p}_i(1-\\hat{p}_i) \\big] \\cdot \\mathbf{x}_i \\\\\n",
    "&= \\frac{1}{n} \\displaystyle\\sum_{i=1}^{n} (\\hat{p}_i - y_i) \\cdot \\mathbf{x}_i \n",
    "\\end{align}\n",
    "$$\n",
    "\n",
    "The vector of weights, $\\mathbf{\\theta}$, is initialized and then iteratively updated until it converges, as shown in equation below.  $\\eta$ is the learning rate of the model.\n",
    "\n",
    "\\begin{equation}\\\n",
    "\\mathbf{\\theta}=\\mathbf{\\theta}-\\eta \\cdot \\nabla_{\\mathbf{\\theta}} J(\\mathbf{\\theta})\n",
    "\\end{equation}\n",
    "\n",
    "To avoid overfitting, we may regularize the gradient descent. For doing this, we introduce a regularization coefficient $\\lambda$ multiplied by either L1 norm (Lasso) or L2 norm(Ridge).\n",
    "\n",
    "The objective function and gradient for lasso regression is shown below:\n",
    "\n",
    "\\begin{equation}\\\n",
    "\\nabla_{\\mathbf{\\theta}} J(\\mathbf{\\theta}) = \\frac{1}{n} \\displaystyle\\sum_{i=1}^{n} (\\hat{p}_i - y_i) \\cdot \\mathbf{x}_i + \\text{sign}(\\mathbf{w})\n",
    "\\end{equation}\n",
    "\n",
    "The objective function and gradient for ridge regression is shown below:\n",
    "\n",
    "\\begin{equation}\\\n",
    "\\nabla_{\\mathbf{\\theta}} J(\\mathbf{\\theta}) = \\frac{1}{n} \\displaystyle\\sum_{i=1}^{n} (\\hat{p}_i - y_i) \\cdot \\mathbf{x}_i + 2 \\lambda \\mathbf{w}\n",
    "\\end{equation}\n",
    "\n",
    "In our implementaion, regularization can be turned on by setting parameters `regType` and `regParam`. "
   ]
  },
  {
   "cell_type": "markdown",
   "metadata": {},
   "source": [
    "### 2.2 Application to Toy Dataset"
   ]
  },
  {
   "cell_type": "markdown",
   "metadata": {},
   "source": [
    "To explain the understanding of math calculations behind this , we randomly pick 5 samples from train.txt as a toy example with two numeric features (`x1`,`x2`) and one 1 hot encoded categorical column `x3` \n",
    "\n",
    "| y | x1 | x2 | x3 |\n",
    "|---|----|----|----|\n",
    "| 0 | 1  | 2  | 1  | \n",
    "| 0 | 2  | 4  | 1  |\n",
    "| 1 | 1  | 0  | 1  |\n",
    "| 1 | 0  | 2 | 0  |\n",
    "| 1 | 3  | 6 | 0  |\n",
    "\n",
    "The logistic regression model makes a prediction as to the probability of input belonging to the default class (class 1). If the probabilty is greater than 0.5, it classifies as default class 0; or else it is class 0.\n",
    "\n",
    "For this toy example, we need to estimthe 4 coefficients ($w_0$, $w_1$, $w_2$, and $w_3$). The job of our model is to discover the best values for all coefficients based on training dataset. The output will then be transformed into a probability using logistic function.\n",
    "\n",
    "$$ z = w_0 + w_1 x_1 + w_2 x_2 + w_3 x_3 $$\n",
    "\n",
    "$$ \\hat{p}(class = 1) = \\frac{1}{1 + e^{-z}} $$\n",
    "\n",
    "There are many variants of gradient descent. In our homegrown logistic regression function, full gradient descent is implemented where coefficients are updated after the calculation of cost for the entire dataset. Below illustrates one descent step.\n",
    "\n",
    "We initialize all coefficients as 0: \n",
    "$$ \\boldsymbol{\\theta} = \\begin{bmatrix} 0 \\\\ 0 \\\\ 0 \\\\ 0 \\\\ \\end{bmatrix}$$  \n",
    "\n",
    "Our input vector $\\mathbf{x}_i$ for first row is:\n",
    "$$  \\mathbf{x}_1 = \\begin{bmatrix} 1 \\\\ 1 \\\\ 2 \\\\ 1 \\\\ \\end{bmatrix} $$ \n",
    "\n",
    "True y for the first row is:\n",
    "$$ y_1 = 0 $$ \n",
    "\n",
    "Gradient for the first row is calculated as follows: \n",
    "$$z = w_0 + w_1 x_1 + w_2 x_2 + w_3 x_3 = 0$$  \n",
    "$$\\hat{p}_1 = \\frac{1}{1 + e^{-z}} = 0.5$$  \n",
    "$$\\text{Gradient}_1 = (\\hat{p}_1 - y_1) \\cdot \\mathbf{x}_1 = 0.5 \\begin{bmatrix} 1 \\\\ 1 \\\\ 2 \\\\ 1\\\\ \\end{bmatrix} = \\begin{bmatrix} 0.5 \\\\ 0.5 \\\\ 1 \\\\ 0.5\\\\ \\end{bmatrix} $$  \n",
    "\n",
    "Follow the same formula, we can calculate gradient for each observation:\n",
    "\n",
    "|  $x_j '$  | $y_j$ |   $\\mathbf{\\theta}^{T} \\cdot \\mathbf{x}_i$ | $\\frac{1}{1 + e^{-z}}$ | $(\\hat{p}_1 - y_1) \\cdot \\mathbf{x}_i$ |\n",
    "|:------:|:------:|:------:|:--------------:|:---------------:|\n",
    "|  input   | true y   |   Linear Predictor   |  Predicted y  | $\\text{gradient}_i$ | \n",
    "| $ \\begin{bmatrix} 1 \\\\ 1 \\\\ 2 \\\\ 1 \\\\ \\end{bmatrix}$   | 0 |  0 | 0.5   |  $\\begin{bmatrix} 0.5 \\\\ 0.5 \\\\ 1 \\\\ 0.5 \\\\ \\end{bmatrix}$\n",
    "| $ \\begin{bmatrix} 1 \\\\ 2 \\\\ 4 \\\\ 1 \\\\ \\end{bmatrix}$   | 0 |  0 | 0.5   |  $\\begin{bmatrix} 0.5 \\\\ 1 \\\\ 2 \\\\ 0.5 \\\\ \\end{bmatrix}$\n",
    "| $ \\begin{bmatrix} 1 \\\\ 1 \\\\ 0 \\\\ 1 \\\\ \\end{bmatrix}$   | 1 |  0 | 0.5   |  $\\begin{bmatrix} 0.5 \\\\ 0.5 \\\\ 0 \\\\ 0.5 \\\\ \\end{bmatrix}$\n",
    "| $ \\begin{bmatrix} 1 \\\\ 0 \\\\ 2 \\\\ 0 \\\\ \\end{bmatrix}$   | 1 |  0 | 0.5   |  $\\begin{bmatrix} 0.5 \\\\ 0 \\\\ 1 \\\\ 0 \\\\ \\end{bmatrix}$\n",
    "| $ \\begin{bmatrix} 1 \\\\ 3 \\\\ 6 \\\\ 0 \\\\ \\end{bmatrix}$   | 1 |  0 | 0.5   |  $\\begin{bmatrix} 0.5 \\\\ 1.5 \\\\ 3 \\\\ 0 \\\\ \\end{bmatrix}$\n",
    "\n",
    "$$ \\nabla_{\\mathbf{\\theta}} J = \\frac{1}{5} \\Bigg( \\begin{bmatrix} 0.5 \\\\ 0.5 \\\\ 1 \\\\ 0.5 \\\\ \\end{bmatrix} + \\begin{bmatrix} 0.5 \\\\ 1 \\\\ 2 \\\\ 0.5 \\\\ \\end{bmatrix} + \\begin{bmatrix} 0.5 \\\\ 0.5 \\\\ 0 \\\\ 0.5 \\\\ \\end{bmatrix} +  \\begin{bmatrix} 0.5 \\\\ 0 \\\\ 1 \\\\ 0 \\\\ \\end{bmatrix} + \\begin{bmatrix} 0.5 \\\\ 1.5 \\\\ 3 \\\\ 0 \\\\ \\end{bmatrix} \\Bigg) = \\begin{bmatrix} 0.5 \\\\ 0.7 \\\\ 1.4 \\\\ 0.3 \\\\ \\end{bmatrix}$$ \n",
    "\n",
    "With learning rate of $\\boldsymbol{\\eta} = 0.1$, the new coefficients are: \n",
    "$$ \\boldsymbol(\\theta) - \\eta \\nabla_{\\boldsymbol{\\theta}} J =  \\begin{bmatrix} 0 \\\\ 0 \\\\ 0 \\\\ 0 \\\\ \\end{bmatrix} - 0.1 \\begin{bmatrix} 0.5 \\\\ 0.7 \\\\ 1.4 \\\\ 0.3 \\\\ \\end{bmatrix} = \\begin{bmatrix} -0.05 \\\\ -0.07 \\\\ -0.14 \\\\ -0.03 \\\\ \\end{bmatrix} $$ "
   ]
  },
  {
   "cell_type": "markdown",
   "metadata": {},
   "source": [
    "In the code below, we run our home grown implementation of logistic regression on this toy example. The output shows the cost and weights of the model after 10 iterations, and the history of the cost as the model progresses through each iteration of gradient descent. "
   ]
  },
  {
   "cell_type": "code",
   "execution_count": 1,
   "metadata": {},
   "outputs": [],
   "source": [
    "def homeGrownLogistic(dataRDD, learningRate=0.1, regType='None', regParam=0.1, iterNum=0, tol=0.001, verbose=0):\n",
    "    \"\"\"\n",
    "    Perform one gradient descent step/update with ridge or lasso regularization.\n",
    "    Args:\n",
    "        dataRDD - tuple of (actual, prediction, [1, features])\n",
    "        learningRate - (float) defaults to 0.1\n",
    "        regType - (str) 'ridge' or 'lasso', defaults to None\n",
    "            regParam - (float) regularization term coefficient, defaults to 0.1\n",
    "        iterNum - (int) number of iterations of gradient descent, max number of iterations is 1000\n",
    "            tol - (float) tolerance of max change in gradient if iterNum is not specified by user or <= 0\n",
    "        verbose - (int) 1 to print additional info, defaults to 0\n",
    "    Returns:\n",
    "        a dictionary that is composed of:\n",
    "        weight - (array) parameter estimates, bias at index 0\n",
    "        history_cost - (list) cost after each iteration\n",
    "    \"\"\"\n",
    "    \n",
    "    ## To resolve math overflow error\n",
    "    ## Reference: https://stackoverflow.com/questions/36268077/overflow-math-range-error-for-log-or-exp?rq=1\n",
    "    def sigmoid(x):\n",
    "        if x < 0:\n",
    "            return 1 - 1/(1 + math.exp(x))\n",
    "        else:\n",
    "            return 1/(1 + math.exp(-x))\n",
    "\n",
    "    def mapper_update_cost_gradient(line):\n",
    "        \"\"\"\n",
    "        This mapper performs 3 tasks:\n",
    "        - Update the prediction based on new weights\n",
    "        - Calculate cost\n",
    "        - Calculate gradient\n",
    "\n",
    "        INPUT: actual, prediction, (1, features)\n",
    "        OUTPUT: cost, gradient as a list\n",
    "        \"\"\"\n",
    "        (actual, pred, feature) = line\n",
    "\n",
    "        z = np.sum(np.array(feature)*weight_bc.value)\n",
    "        ## Bound the prediction between 0.000001 and 0.999999 \n",
    "        ##     so that log(prediction) or log(1-prediction) doesn't encounter math domain error\n",
    "        pred = min(max(sigmoid(z), 0.000001), 0.999999)\n",
    "\n",
    "        if actual == 1:\n",
    "            cost = - math.log(pred)\n",
    "        else:\n",
    "            cost = - math.log(1-pred)\n",
    "\n",
    "        gradient = np.array(feature)*(pred-actual)\n",
    "\n",
    "        return (cost, gradient)\n",
    "\n",
    "    \n",
    "    dataRDD.cache()\n",
    "    \n",
    "    nObs = dataRDD.count()\n",
    "    nFeature = len(dataRDD.take(1)[0][2])\n",
    "    nFeature_bc = sc.broadcast(nFeature)\n",
    "    \n",
    "    ## Initialization\n",
    "    weight_init_arr = np.zeros(nFeature)\n",
    "#     weight_init_arr = np.array([0.02, 0.001, -0.002, 0, -0.1])\n",
    "    weight_arr = weight_init_arr\n",
    "    old_grad_arr = np.zeros(nFeature)\n",
    "    max_chg_grad = 1000 # an arbitrary large number\n",
    "    history_cost_lst = []\n",
    "    \n",
    "    \n",
    "    for i in range(1000):\n",
    "        if iterNum > 0:\n",
    "            if i == iterNum:\n",
    "                break\n",
    "        else:\n",
    "            if max_chg_grad < tol:\n",
    "                break\n",
    "\n",
    "        weight_bc = sc.broadcast(weight_arr)\n",
    "        cost_gradient_temp = dataRDD.map(mapper_update_cost_gradient).reduce(lambda x, y: (x[0]+y[0],x[1]+y[1]))\n",
    "\n",
    "        cost = cost_gradient_temp[0] / nObs\n",
    "        history_cost_lst.append(cost)\n",
    "\n",
    "        grad_arr = cost_gradient_temp[1] / nObs\n",
    "        if regType == 'lasso':\n",
    "            grad_arr += regParam*np.append([0.0], np.sign(weight_arr[1:]))\n",
    "        elif regType == 'ridge':\n",
    "            grad_arr += 2*regParam*np.append([0.0], weight_arr[1:])\n",
    "            \n",
    "        max_chg_grad = np.max(np.abs(grad_arr - old_grad_arr))\n",
    "        old_grad_arr = grad_arr\n",
    "        \n",
    "        step_arr = grad_arr * learningRate\n",
    "        weight_arr -= step_arr\n",
    "\n",
    "        if verbose == 1:\n",
    "            print(\"--------------\")\n",
    "            print(f'ITERATION: {i+1}')  \n",
    "            print(f'cost_gradient_temp is {cost_gradient_temp}')\n",
    "            print(f'Gradients are {grad_arr}')\n",
    "            print(f'Max change in gradient is {max_chg_grad}')\n",
    "            print(f'Weights are {weight_arr}')\n",
    "            print(f'cost is {cost}')\n",
    "        else:\n",
    "            if (i+1) % 10 == 0:\n",
    "                print(f'ITERATION {i+1}: cost = {cost}')\n",
    "    \n",
    "    if i % 10 != 0:\n",
    "        print(f'ITERATION {i}: cost = {cost}')\n",
    "        \n",
    "    return {'weight': weight_arr, 'history_cost': history_cost_lst}"
   ]
  },
  {
   "cell_type": "markdown",
   "metadata": {},
   "source": [
    "We built the homegrown logistic regression function based on these two references: \n",
    "* https://www.internalpointers.com/post/cost-function-logistic-regression  \n",
    "* https://towardsdatascience.com/optimization-loss-function-under-the-hood-part-ii-d20a239cde11"
   ]
  },
  {
   "cell_type": "code",
   "execution_count": 14,
   "metadata": {},
   "outputs": [
    {
     "name": "stdout",
     "output_type": "stream",
     "text": [
      "ITERATION 10: cost = 0.6568145865083382\n",
      "----\n",
      "model weights:  [ 0.07620662 -0.12118341  0.08147204 -0.1029171 ]\n",
      "----\n",
      "cost per iteration [0.6931471805599452, 0.6866844439068702, 0.6817338530204186, 0.6775022786261939, 0.6736464057556342, 0.6700157349206849, 0.6665424521012513, 0.6631944203505695, 0.6599550421779657, 0.6568145865083382]\n",
      "----\n",
      "... logistic model trained in 1.2811481952667236 seconds.\n"
     ]
    }
   ],
   "source": [
    "# Create Toy data set for homegrown\n",
    "toy_df_hg = spark.createDataFrame(\n",
    "    [(0.0,1.0,[1, 2, 1]),\n",
    "     (0.0,2.0,[2, 4, 1]),\n",
    "     (1.0,1.0,[1, 0, 1]),\n",
    "     (1.0,0.0,[0, 2, 0]),\n",
    "     (1.0,3.0,[1, 6, 0]),\n",
    "     ],\n",
    "    [\"actual\", \"prediction\",\"features\"])\n",
    "\n",
    "# Transform dataset for home grown model function\n",
    "toy_hg_rdd = toy_df_hg.rdd.map(lambda row: (row.actual,row.prediction, tuple([1]+list(row.features))))\n",
    "toy_hg_rdd.cache()  \n",
    "\n",
    "# Run home grown model and time it\n",
    "start = time.time()\n",
    "result = homeGrownLogistic(toy_hg_rdd, learningRate=0.1, regType=\"none\", iterNum=10)\n",
    "print('----')\n",
    "print('model weights: ',result['weight'])\n",
    "print('----')\n",
    "print('cost per iteration',result['history_cost'])\n",
    "print('----')\n",
    "print(f'... logistic model trained in {time.time() - start} seconds.')"
   ]
  },
  {
   "cell_type": "markdown",
   "metadata": {},
   "source": [
    "# Section 3 - EDA & Challenges"
   ]
  },
  {
   "cell_type": "markdown",
   "metadata": {},
   "source": [
    "### 3.1 Get the data"
   ]
  },
  {
   "cell_type": "code",
   "execution_count": 13,
   "metadata": {},
   "outputs": [],
   "source": [
    "data/train.txt').map(lambda x: x.split(\"\\t\"))\n",
    "testRawRDD = sc.textFile('data/test.txt').map(lambda x: x.split(\"\\t\"))"
   ]
  },
  {
   "cell_type": "markdown",
   "metadata": {},
   "source": [
    "### 3.2 Split into Train and Validation Set"
   ]
  },
  {
   "cell_type": "markdown",
   "metadata": {},
   "source": [
    "The test data we downloaded doesn't have a target variable and thus cannot be used for model development and tuning so we split the training data into training and validation sets."
   ]
  },
  {
   "cell_type": "code",
   "execution_count": 14,
   "metadata": {},
   "outputs": [
    {
     "name": "stdout",
     "output_type": "stream",
     "text": [
      "... held out 13754755 records for evaluation and assigned 32085862 for training.\n"
     ]
    }
   ],
   "source": [
    "trainRDD, validationRDD = trainRawRDD.randomSplit([0.7,0.3], seed = 1)\n",
    "print(f\"... held out {validationRDD.count()} records for evaluation and assigned {trainRDD.count()} for training.\")"
   ]
  },
  {
   "cell_type": "markdown",
   "metadata": {},
   "source": [
    "### 3.3 Convert to Spark DataFrame"
   ]
  },
  {
   "cell_type": "markdown",
   "metadata": {},
   "source": [
    "From Kaggle we know that the first column is the label (our target variable), columns 2-14 are numerical columns and columns 15-40 are categorical. We will rename these columns so that we can distinguish between label, numerical data, and categorical data"
   ]
  },
  {
   "cell_type": "code",
   "execution_count": 15,
   "metadata": {},
   "outputs": [
    {
     "name": "stdout",
     "output_type": "stream",
     "text": [
      "+-----+---+---+---+---+-----+---+---+---+---+---+---+---+---+--------+--------+--------+--------+--------+--------+--------+--------+--------+--------+--------+--------+--------+--------+--------+--------+--------+--------+--------+--------+--------+--------+--------+--------+--------+--------+\n",
      "|Label| I1| I2| I3| I4|   I5| I6| I7| I8| I9|I10|I11|I12|I13|      C1|      C2|      C3|      C4|      C5|      C6|      C7|      C8|      C9|     C10|     C11|     C12|     C13|     C14|     C15|     C16|     C17|     C18|     C19|     C20|     C21|     C22|     C23|     C24|     C25|     C26|\n",
      "+-----+---+---+---+---+-----+---+---+---+---+---+---+---+---+--------+--------+--------+--------+--------+--------+--------+--------+--------+--------+--------+--------+--------+--------+--------+--------+--------+--------+--------+--------+--------+--------+--------+--------+--------+--------+\n",
      "|    0|  1|  1|  5|  0| 1382|  4| 15|  2|181|  1|  2|   |  2|68fd1e64|80e26c9b|fb936136|7b4723c4|25c83c98|7e0ccccf|de7995b8|1f89b562|a73ee510|a8cd5504|b2cb9c98|37c9c164|2824a5f6|1adce6ef|8ba8b39a|891b62e7|e5ba7672|f54016b9|21ddcdc9|b1252a9d|07b5194c|        |3a171ecb|c5c50484|e8b83407|9727dd16|\n",
      "|    0|  2|  0|  1| 14|  767| 89|  4|  2|245|  1|  3|  3| 45|287e684f|0a519c5c|02cf9876|c18be181|25c83c98|7e0ccccf|c78204a1|0b153874|a73ee510|3b08e48b|5f5e6091|8fe001f4|aa655a2f|07d13a8f|6dc710ed|36103458|8efede7f|3412118d|        |        |e587c466|ad3062eb|3a171ecb|3b183c5c|        |        |\n",
      "|    0|   |893|   |   | 4392|   |  0|  0|  0|   |  0|   |   |68fd1e64|2c16a946|a9a87e68|2e17d6f6|25c83c98|fe6b92e5|2e8a689b|0b153874|a73ee510|efea433b|e51ddf94|a30567ca|3516f6e6|07d13a8f|18231224|52b8680f|1e88c74f|74ef3502|        |        |6b3a5ca6|        |3a171ecb|9117a34a|        |        |\n",
      "|    0|   | -1|   |   |12824|   |  0|  0|  6|   |  0|   |   |05db9164|6c9c9cf3|2730ec9c|5400db8b|43b19349|6f6d9be8|53b5f978|0b153874|a73ee510|3b08e48b|91e8fc27|be45b877|9ff13f22|07d13a8f|06969a20|9bc7fff5|776ce399|92555263|        |        |242bb710|8ec974f4|be7c41b4|72c78f11|        |        |\n",
      "|    0|   |  1|  2|   | 3168|   |  0|  1|  2|   |  0|   |   |439a44a4|ad4527a2|c02372d0|d34ebbaa|43b19349|fe6b92e5|4bc6ffea|0b153874|a73ee510|3b08e48b|a4609aab|14d63538|772a00d7|07d13a8f|f9d1382e|b00d3dc9|776ce399|cdfa8259|        |        |20062612|        |93bad2c0|1b256e61|        |        |\n",
      "+-----+---+---+---+---+-----+---+---+---+---+---+---+---+---+--------+--------+--------+--------+--------+--------+--------+--------+--------+--------+--------+--------+--------+--------+--------+--------+--------+--------+--------+--------+--------+--------+--------+--------+--------+--------+\n",
      "only showing top 5 rows\n",
      "\n"
     ]
    }
   ],
   "source": [
    "# create header for dataset with numeric and categorical features\n",
    "numeric_features = ['I'+str(i) for i in range(1,14)]\n",
    "categorical_features = ['C'+str(i) for i in range(1,27)]\n",
    "header = ['Label'] + numeric_features + categorical_features\n",
    "trainDF = trainRDD.toDF(header)\n",
    "#trainDF.printSchema()\n",
    "trainDF.show(5)"
   ]
  },
  {
   "cell_type": "code",
   "execution_count": 16,
   "metadata": {},
   "outputs": [],
   "source": [
    "## Apply the header to the validation RDD as well\n",
    "validationDF = validationRDD.toDF(header)"
   ]
  },
  {
   "cell_type": "code",
   "execution_count": 17,
   "metadata": {},
   "outputs": [],
   "source": [
    "# cast integer variables to integer type\n",
    "for var in ['Label'] + numeric_features:\n",
    "    trainDF = trainDF.withColumn(var, trainDF[var].cast(IntegerType()))\n",
    "    validationDF = validationDF.withColumn(var, validationDF[var].cast(IntegerType()))"
   ]
  },
  {
   "cell_type": "markdown",
   "metadata": {},
   "source": [
    "### 3.4. Count the Number of Missing Values in Each Feature"
   ]
  },
  {
   "cell_type": "markdown",
   "metadata": {},
   "source": [
    "A key step in our EDA is to examine any missing values in the dataset. Many algorithms, such as Principle Component Analysis (PCA) and logistic regression, do not work well with missing values. If we have missing values in the data, we need to be thoughtful about how to handle this challenge for our modeling to be successful. "
   ]
  },
  {
   "cell_type": "markdown",
   "metadata": {},
   "source": [
    "For missing numeric variables, they show up as `NaN`. For some reason, missing categorical variables are not recognized as `NaN`, replace them with `None`."
   ]
  },
  {
   "cell_type": "code",
   "execution_count": 18,
   "metadata": {},
   "outputs": [],
   "source": [
    "# replace missing categorical variables not recognized as NA with the None\n",
    "trainDF = trainDF.replace('', None, categorical_features)\n",
    "validationDF = validationDF.replace('', None, categorical_features)"
   ]
  },
  {
   "cell_type": "markdown",
   "metadata": {},
   "source": [
    "In the table below, we calculate the percentage of missing values for each feature. Only features with missing values are displayed."
   ]
  },
  {
   "cell_type": "code",
   "execution_count": 20,
   "metadata": {},
   "outputs": [
    {
     "data": {
      "text/html": [
       "<div>\n",
       "<style scoped>\n",
       "    .dataframe tbody tr th:only-of-type {\n",
       "        vertical-align: middle;\n",
       "    }\n",
       "\n",
       "    .dataframe tbody tr th {\n",
       "        vertical-align: top;\n",
       "    }\n",
       "\n",
       "    .dataframe thead th {\n",
       "        text-align: right;\n",
       "    }\n",
       "</style>\n",
       "<table border=\"1\" class=\"dataframe\">\n",
       "  <thead>\n",
       "    <tr style=\"text-align: right;\">\n",
       "      <th></th>\n",
       "      <th>non-missing</th>\n",
       "      <th>missing</th>\n",
       "      <th>missing_pct</th>\n",
       "    </tr>\n",
       "  </thead>\n",
       "  <tbody>\n",
       "    <tr>\n",
       "      <th>I12</th>\n",
       "      <td>7537975</td>\n",
       "      <td>24547887</td>\n",
       "      <td>0.765069</td>\n",
       "    </tr>\n",
       "    <tr>\n",
       "      <th>C22</th>\n",
       "      <td>7619405</td>\n",
       "      <td>24466457</td>\n",
       "      <td>0.762531</td>\n",
       "    </tr>\n",
       "    <tr>\n",
       "      <th>I1</th>\n",
       "      <td>17532227</td>\n",
       "      <td>14553635</td>\n",
       "      <td>0.453584</td>\n",
       "    </tr>\n",
       "    <tr>\n",
       "      <th>I10</th>\n",
       "      <td>17532227</td>\n",
       "      <td>14553635</td>\n",
       "      <td>0.453584</td>\n",
       "    </tr>\n",
       "    <tr>\n",
       "      <th>C25</th>\n",
       "      <td>17967683</td>\n",
       "      <td>14118179</td>\n",
       "      <td>0.440012</td>\n",
       "    </tr>\n",
       "    <tr>\n",
       "      <th>C20</th>\n",
       "      <td>17967683</td>\n",
       "      <td>14118179</td>\n",
       "      <td>0.440012</td>\n",
       "    </tr>\n",
       "    <tr>\n",
       "      <th>C19</th>\n",
       "      <td>17967683</td>\n",
       "      <td>14118179</td>\n",
       "      <td>0.440012</td>\n",
       "    </tr>\n",
       "    <tr>\n",
       "      <th>C26</th>\n",
       "      <td>17967683</td>\n",
       "      <td>14118179</td>\n",
       "      <td>0.440012</td>\n",
       "    </tr>\n",
       "    <tr>\n",
       "      <th>I6</th>\n",
       "      <td>24910105</td>\n",
       "      <td>7175757</td>\n",
       "      <td>0.223642</td>\n",
       "    </tr>\n",
       "    <tr>\n",
       "      <th>I13</th>\n",
       "      <td>25129289</td>\n",
       "      <td>6956573</td>\n",
       "      <td>0.216811</td>\n",
       "    </tr>\n",
       "    <tr>\n",
       "      <th>I4</th>\n",
       "      <td>25129289</td>\n",
       "      <td>6956573</td>\n",
       "      <td>0.216811</td>\n",
       "    </tr>\n",
       "    <tr>\n",
       "      <th>I3</th>\n",
       "      <td>25199572</td>\n",
       "      <td>6886290</td>\n",
       "      <td>0.214621</td>\n",
       "    </tr>\n",
       "    <tr>\n",
       "      <th>C6</th>\n",
       "      <td>28208024</td>\n",
       "      <td>3877838</td>\n",
       "      <td>0.120858</td>\n",
       "    </tr>\n",
       "    <tr>\n",
       "      <th>I9</th>\n",
       "      <td>30698817</td>\n",
       "      <td>1387045</td>\n",
       "      <td>0.043229</td>\n",
       "    </tr>\n",
       "    <tr>\n",
       "      <th>I11</th>\n",
       "      <td>30698817</td>\n",
       "      <td>1387045</td>\n",
       "      <td>0.043229</td>\n",
       "    </tr>\n",
       "    <tr>\n",
       "      <th>I7</th>\n",
       "      <td>30698817</td>\n",
       "      <td>1387045</td>\n",
       "      <td>0.043229</td>\n",
       "    </tr>\n",
       "    <tr>\n",
       "      <th>C4</th>\n",
       "      <td>30994666</td>\n",
       "      <td>1091196</td>\n",
       "      <td>0.034009</td>\n",
       "    </tr>\n",
       "    <tr>\n",
       "      <th>C12</th>\n",
       "      <td>30994666</td>\n",
       "      <td>1091196</td>\n",
       "      <td>0.034009</td>\n",
       "    </tr>\n",
       "    <tr>\n",
       "      <th>C16</th>\n",
       "      <td>30994666</td>\n",
       "      <td>1091196</td>\n",
       "      <td>0.034009</td>\n",
       "    </tr>\n",
       "    <tr>\n",
       "      <th>C21</th>\n",
       "      <td>30994666</td>\n",
       "      <td>1091196</td>\n",
       "      <td>0.034009</td>\n",
       "    </tr>\n",
       "    <tr>\n",
       "      <th>C24</th>\n",
       "      <td>30994666</td>\n",
       "      <td>1091196</td>\n",
       "      <td>0.034009</td>\n",
       "    </tr>\n",
       "    <tr>\n",
       "      <th>C3</th>\n",
       "      <td>30994666</td>\n",
       "      <td>1091196</td>\n",
       "      <td>0.034009</td>\n",
       "    </tr>\n",
       "    <tr>\n",
       "      <th>I5</th>\n",
       "      <td>31258151</td>\n",
       "      <td>827711</td>\n",
       "      <td>0.025797</td>\n",
       "    </tr>\n",
       "    <tr>\n",
       "      <th>I8</th>\n",
       "      <td>32069960</td>\n",
       "      <td>15902</td>\n",
       "      <td>0.000496</td>\n",
       "    </tr>\n",
       "  </tbody>\n",
       "</table>\n",
       "</div>"
      ],
      "text/plain": [
       "    non-missing   missing  missing_pct\n",
       "I12     7537975  24547887     0.765069\n",
       "C22     7619405  24466457     0.762531\n",
       "I1     17532227  14553635     0.453584\n",
       "I10    17532227  14553635     0.453584\n",
       "C25    17967683  14118179     0.440012\n",
       "C20    17967683  14118179     0.440012\n",
       "C19    17967683  14118179     0.440012\n",
       "C26    17967683  14118179     0.440012\n",
       "I6     24910105   7175757     0.223642\n",
       "I13    25129289   6956573     0.216811\n",
       "I4     25129289   6956573     0.216811\n",
       "I3     25199572   6886290     0.214621\n",
       "C6     28208024   3877838     0.120858\n",
       "I9     30698817   1387045     0.043229\n",
       "I11    30698817   1387045     0.043229\n",
       "I7     30698817   1387045     0.043229\n",
       "C4     30994666   1091196     0.034009\n",
       "C12    30994666   1091196     0.034009\n",
       "C16    30994666   1091196     0.034009\n",
       "C21    30994666   1091196     0.034009\n",
       "C24    30994666   1091196     0.034009\n",
       "C3     30994666   1091196     0.034009\n",
       "I5     31258151    827711     0.025797\n",
       "I8     32069960     15902     0.000496"
      ]
     },
     "execution_count": 20,
     "metadata": {},
     "output_type": "execute_result"
    }
   ],
   "source": [
    "# look at missing statistics\n",
    "total_count = trainDF.count()\n",
    "non_missing = trainDF.summary(\"count\")\n",
    "missing_summary = non_missing.toPandas().drop(['summary'], axis=1).transpose()\n",
    "missing_summary.columns = ['non-missing']\n",
    "missing_summary['missing'] = total_count - missing_summary['non-missing'].astype('int64')\n",
    "missing_summary['missing_pct'] = missing_summary['missing'] / total_count\n",
    "missing_summary[missing_summary.missing_pct>0].sort_values(['missing_pct'], ascending=False)"
   ]
  },
  {
   "cell_type": "markdown",
   "metadata": {},
   "source": [
    "24 of 39 features have missing values. Some features such as `I12`, `C22` have around 76.5% missing values. The target variable doesn't have any missing values, which is important, otherwise we would have to remove the rows where the target variable were missing. How we handle this challenge of missing values is discussed further in Section 3.9 Summary of Challenges. "
   ]
  },
  {
   "cell_type": "markdown",
   "metadata": {},
   "source": [
    "Below we create a list of features with missing values, which will be used later when we apply missing value treatment."
   ]
  },
  {
   "cell_type": "code",
   "execution_count": 21,
   "metadata": {},
   "outputs": [
    {
     "name": "stdout",
     "output_type": "stream",
     "text": [
      "{'I1': 0, 'I3': 0, 'I4': 0, 'I5': 0, 'I6': 0, 'I7': 0, 'I8': 0, 'I9': 0, 'I10': 0, 'I11': 0, 'I12': 0, 'I13': 0, 'C3': '0', 'C4': '0', 'C6': '0', 'C12': '0', 'C16': '0', 'C19': '0', 'C20': '0', 'C21': '0', 'C22': '0', 'C24': '0', 'C25': '0', 'C26': '0'}\n"
     ]
    }
   ],
   "source": [
    "numeric_features_miss = [\"I1\",\"I3\",\"I4\",\"I5\",\"I6\",\"I7\",\"I8\",\"I9\",\"I10\",\"I11\",\"I12\",\"I13\"]\n",
    "categorical_features_miss = [\"C3\",\"C4\",\"C6\",\"C12\",\"C16\",\"C19\",\"C20\",\"C21\",\"C22\",\"C24\",\"C25\",\"C26\"]\n",
    "features_miss = numeric_features_miss + categorical_features_miss\n",
    "\n",
    "features_miss0_dict = dict()\n",
    "for feature in numeric_features_miss:\n",
    "    features_miss0_dict.update({feature: 0})\n",
    "    \n",
    "for feature in categorical_features_miss:\n",
    "    features_miss0_dict.update({feature: '0'})\n",
    "    \n",
    "print(features_miss0_dict)"
   ]
  },
  {
   "cell_type": "markdown",
   "metadata": {},
   "source": [
    "### 3.5 Check for Class Imbalance"
   ]
  },
  {
   "cell_type": "markdown",
   "metadata": {},
   "source": [
    "For a classification problem, it's importance to check whether classes are balanced or not. If one class has significantly more observations than the other (i.e., class are imbalanced), we need to consider a few options such as the following:  \n",
    "* Oversample the minority class  \n",
    "* Undersample the majority class  \n",
    "* Use a performance metric other than accuracy  \n",
    "\n",
    "The list above is not exhausive but only includes some common tactics."
   ]
  },
  {
   "cell_type": "code",
   "execution_count": 22,
   "metadata": {},
   "outputs": [
    {
     "data": {
      "text/html": [
       "<div>\n",
       "<style scoped>\n",
       "    .dataframe tbody tr th:only-of-type {\n",
       "        vertical-align: middle;\n",
       "    }\n",
       "\n",
       "    .dataframe tbody tr th {\n",
       "        vertical-align: top;\n",
       "    }\n",
       "\n",
       "    .dataframe thead th {\n",
       "        text-align: right;\n",
       "    }\n",
       "</style>\n",
       "<table border=\"1\" class=\"dataframe\">\n",
       "  <thead>\n",
       "    <tr style=\"text-align: right;\">\n",
       "      <th></th>\n",
       "      <th>Label</th>\n",
       "      <th>count</th>\n",
       "    </tr>\n",
       "  </thead>\n",
       "  <tbody>\n",
       "    <tr>\n",
       "      <th>0</th>\n",
       "      <td>1</td>\n",
       "      <td>8220552</td>\n",
       "    </tr>\n",
       "    <tr>\n",
       "      <th>1</th>\n",
       "      <td>0</td>\n",
       "      <td>23865310</td>\n",
       "    </tr>\n",
       "  </tbody>\n",
       "</table>\n",
       "</div>"
      ],
      "text/plain": [
       "   Label     count\n",
       "0      1   8220552\n",
       "1      0  23865310"
      ]
     },
     "execution_count": 22,
     "metadata": {},
     "output_type": "execute_result"
    }
   ],
   "source": [
    "# look at target variable distribution\n",
    "trainDF.groupBy('Label').count().toPandas()"
   ]
  },
  {
   "cell_type": "markdown",
   "metadata": {},
   "source": [
    "Roughly 25% ($ =8220552/(8220552+23865310)$) of the data is labeled as 1. The classes are mildly imbalanced.\n",
    "\n",
    "How we handle this challenge of class imbalance is discussed further in Section 3.9 Summary of Challenges. "
   ]
  },
  {
   "cell_type": "markdown",
   "metadata": {},
   "source": [
    "### 3.6 Correlations among Numeric Features and with the Target"
   ]
  },
  {
   "cell_type": "markdown",
   "metadata": {},
   "source": [
    "Next, we take 1% of dataset as the sample to perform more EDA with summary statistics, correlation matrix, and histogram for numeric features, and summary statistics for categorical features."
   ]
  },
  {
   "cell_type": "code",
   "execution_count": 23,
   "metadata": {},
   "outputs": [
    {
     "data": {
      "text/plain": [
       "320424"
      ]
     },
     "execution_count": 23,
     "metadata": {},
     "output_type": "execute_result"
    }
   ],
   "source": [
    "# take 1% of data as a sample for more EDA\n",
    "sampleDF = trainDF.sample(False,0.01,261).cache()\n",
    "sampleDF.count()"
   ]
  },
  {
   "cell_type": "markdown",
   "metadata": {},
   "source": [
    "Certain models, such as regression models, require little or no multicollinearity, so we want to check the correlations between numeric features. For features with strong correlations, we can (1) perform variable clustering, (2) drop highly correlated features, and (3) use PCA to create orthogonal features.  \n",
    "We will examine the correlation matrix first."
   ]
  },
  {
   "cell_type": "code",
   "execution_count": 16,
   "metadata": {},
   "outputs": [
    {
     "data": {
      "image/png": "[encoded data removed]",
      "text/plain": [
       "<Figure size 792x648 with 2 Axes>"
      ]
     },
     "metadata": {},
     "output_type": "display_data"
    }
   ],
   "source": [
    "# Correlation between the dependent variables\n",
    "numeric_data = sampleDF.select(['Label'] + numeric_features).toPandas()\n",
    "corr = numeric_data.corr()\n",
    "fig,ax = plt.subplots(figsize=(11, 9))\n",
    "mask = np.zeros_like(corr, dtype=np.bool)\n",
    "mask[np.triu_indices_from(mask)] = True\n",
    "cmap = sns.diverging_palette(240, 10, as_cmap=True)\n",
    "sns.heatmap(corr, mask=mask, cmap=cmap, annot=True,center=0, linewidths=.5)\n",
    "plt.title(\"Correlations between features.\")\n",
    "plt.show()"
   ]
  },
  {
   "cell_type": "markdown",
   "metadata": {},
   "source": [
    "We noticed that a few variables are relatively correlated. For example `I7` and `I11`, `I4` and `I8`, `I14` and `I13`, `I1` and `I10`, `I8` and `I13` have correlation coefficients greater than 0.4, with highest correlation of 0.71. We will take one of the three actions listed above before running a logistic regression model. "
   ]
  },
  {
   "cell_type": "markdown",
   "metadata": {},
   "source": [
    "The target variable `Label` is weakly positively correlated with `I10` and `I11`."
   ]
  },
  {
   "cell_type": "markdown",
   "metadata": {},
   "source": [
    "### 3.7 Descriptive Analysis on Numeric Features"
   ]
  },
  {
   "cell_type": "markdown",
   "metadata": {},
   "source": [
    "Another thing we want to look at is the distributions of numeric features. If features have significantly different means and standard deviations, Gradient Descent takes steps in suboptimal directions and takes longer to run. "
   ]
  },
  {
   "cell_type": "code",
   "execution_count": 17,
   "metadata": {},
   "outputs": [
    {
     "name": "stdout",
     "output_type": "stream",
     "text": [
      "+-------+------------------+------------------+------------------+-----------------+-----------------+------------------+------------------+\n",
      "|summary|                I1|                I2|                I3|               I4|               I5|                I6|                I7|\n",
      "+-------+------------------+------------------+------------------+-----------------+-----------------+------------------+------------------+\n",
      "|  count|            175027|            320424|            251279|           250874|           312286|            248699|            306393|\n",
      "|   mean|3.4875762025287527|105.91240044441116|26.441477401613348|7.321914586605228|18611.46090122516|114.73418469716404|16.369182716315322|\n",
      "| stddev| 9.273054052817852| 389.3028876716936| 406.8141727013279| 8.69686527812395|69583.08516636734|329.73313428383074| 63.74876930521864|\n",
      "|    min|                 0|                -2|                 0|                0|                0|                 0|                 0|\n",
      "|    max|               651|             14961|             65535|              383|          2169776|             32649|              6871|\n",
      "+-------+------------------+------------------+------------------+-----------------+-----------------+------------------+------------------+\n",
      "\n"
     ]
    }
   ],
   "source": [
    "sampleDF.select(numeric_features[:7]).describe().show()"
   ]
  },
  {
   "cell_type": "code",
   "execution_count": 18,
   "metadata": {},
   "outputs": [
    {
     "name": "stdout",
     "output_type": "stream",
     "text": [
      "+-------+------------------+------------------+------------------+-----------------+-----------------+-----------------+\n",
      "|summary|                I8|                I9|               I10|              I11|              I12|              I13|\n",
      "+-------+------------------+------------------+------------------+-----------------+-----------------+-----------------+\n",
      "|  count|            320266|            306393|            175027|           306393|            74948|           250874|\n",
      "|   mean|12.546567540731766| 106.3076832695264| 0.617944659966748|2.745529434419194|1.012635427229546|8.202938526909923|\n",
      "| stddev|18.606387143970668|221.57141201889365|0.6825324578258775|5.234907023394712|5.740601156484362|13.31715860280245|\n",
      "|    min|                 0|                 0|                 0|                0|                0|                0|\n",
      "|    max|              4554|             14158|                 8|              127|              493|             2341|\n",
      "+-------+------------------+------------------+------------------+-----------------+-----------------+-----------------+\n",
      "\n"
     ]
    }
   ],
   "source": [
    "sampleDF.select(numeric_features[7:]).describe().show()"
   ]
  },
  {
   "cell_type": "markdown",
   "metadata": {},
   "source": [
    "The basic descriptive statistics above show the average values of numeric features vary greatly from 0.62 (`I10`) to 18611 (`I5`). The coefficients of variation, the ratio of standard deviation to mean, also vary greatly among features. In addition, the maximum values for all features are significantly further from their means than their minimum values are. This indicates all the numeric features are highly skewed to the right. \n",
    "\n",
    "We can visualize the distributions through plotting histograms the sample data."
   ]
  },
  {
   "cell_type": "code",
   "execution_count": 19,
   "metadata": {},
   "outputs": [
    {
     "data": {
      "image/png": "[encoded data removed]",
      "text/plain": [
       "<Figure size 432x288 with 13 Axes>"
      ]
     },
     "metadata": {},
     "output_type": "display_data"
    }
   ],
   "source": [
    "# Histogram of numeric features\n",
    "sample_pd = sampleDF.toPandas()\n",
    "dim = np.ceil(np.sqrt(len(sample_pd.columns[1:14])))\n",
    "fig = plt.figure(figsize=(6,4))\n",
    "fig.subplots_adjust(left=0, right=2, bottom=0, top=2.5)\n",
    "for i,c in enumerate(trainDF.columns[1:14]):\n",
    "# for each numerical variable, plot a histogram of non-missing values\n",
    "    ax = fig.add_subplot(dim, dim, i + 1)\n",
    "    ax.hist(sample_pd[c].dropna(), bins=50)\n",
    "    ax.set_title(sample_pd.columns[i + 1])"
   ]
  },
  {
   "cell_type": "markdown",
   "metadata": {},
   "source": [
    "As confirmed by the histograms above, we have extreme skewness in all our numeric variables. This poses challenges when we later implement gradient descent in logistic regression models, which we should address through normalization. In Section 5, we will explain normalization in greater details. Below, we demonstrate two common normalization techniques (log scaling and z-score) and their effect on the sample data. "
   ]
  },
  {
   "cell_type": "markdown",
   "metadata": {},
   "source": [
    "(1) Log scaling"
   ]
  },
  {
   "cell_type": "code",
   "execution_count": 20,
   "metadata": {},
   "outputs": [
    {
     "data": {
      "image/png": "[encoded data removed]",
      "text/plain": [
       "<Figure size 432x288 with 13 Axes>"
      ]
     },
     "metadata": {},
     "output_type": "display_data"
    }
   ],
   "source": [
    "# Histogram of log transformed numeric features\n",
    "\n",
    "# set up the subplots figure\n",
    "dim = np.ceil(np.sqrt(len(sample_pd.columns[1:14])))\n",
    "fig = plt.figure(figsize=(6,4))\n",
    "fig.subplots_adjust(left=0, right=2, bottom=0, top=2.5)\n",
    "for i, col in enumerate(sample_pd.columns[1:14]):\n",
    "    # add the subplot\n",
    "    ax = fig.add_subplot(dim, dim, i + 1)\n",
    "        \n",
    "    # replace the missing values with 0\n",
    "    c = sample_pd[col].copy()\n",
    "    c.fillna(0, inplace=True)\n",
    "        \n",
    "    # take natural log of nonzero values (to avoid -inf)\n",
    "    c[c != 0] = c[c != 0].apply(np.log)\n",
    "        \n",
    "    # plot histogram\n",
    "    ax.hist(c.dropna(), bins=50)\n",
    "    ax.set_title(sample_pd.columns[i + 1])"
   ]
  },
  {
   "cell_type": "markdown",
   "metadata": {},
   "source": [
    "(2) Clipping"
   ]
  },
  {
   "cell_type": "code",
   "execution_count": 52,
   "metadata": {},
   "outputs": [],
   "source": [
    "def capNumeric(df):\n",
    "    capNumeric_lst = [25, 300, 150, 50, 50000, 600, 100, 50, 500, 3, 20, 5, 50]\n",
    "    for i, column in enumerate(numeric_features):\n",
    "        df = df.withColumn(column+\"_cap\", when(F.col(column) > capNumeric_lst[i], capNumeric_lst[i]).otherwise(F.col(column)))\n",
    "    df.cache()\n",
    "    return df"
   ]
  },
  {
   "cell_type": "code",
   "execution_count": 55,
   "metadata": {},
   "outputs": [
    {
     "data": {
      "text/plain": [
       "DataFrame[Label: int, I1: int, I2: int, I3: int, I4: int, I5: int, I6: int, I7: int, I8: int, I9: int, I10: int, I11: int, I12: int, I13: int, C1: string, C2: string, C3: string, C4: string, C5: string, C6: string, C7: string, C8: string, C9: string, C10: string, C11: string, C12: string, C13: string, C14: string, C15: string, C16: string, C17: string, C18: string, C19: string, C20: string, C21: string, C22: string, C23: string, C24: string, C25: string, C26: string, I1_cap: int, I2_cap: int, I3_cap: int, I4_cap: int, I5_cap: int, I6_cap: int, I7_cap: int, I8_cap: int, I9_cap: int, I10_cap: int, I11_cap: int, I12_cap: int, I13_cap: int]"
      ]
     },
     "execution_count": 55,
     "metadata": {},
     "output_type": "execute_result"
    }
   ],
   "source": [
    "capNumeric(sampleDF)"
   ]
  },
  {
   "cell_type": "code",
   "execution_count": 54,
   "metadata": {},
   "outputs": [
    {
     "data": {
      "image/png": "[encoded data removed]",
      "text/plain": [
       "<Figure size 432x288 with 13 Axes>"
      ]
     },
     "metadata": {},
     "output_type": "display_data"
    }
   ],
   "source": [
    "# Histogram of numeric features\n",
    "sample_pd = sampleDF.toPandas()\n",
    "dim = np.ceil(np.sqrt(len(sample_pd.columns[-13:])))\n",
    "fig = plt.figure(figsize=(6,4))\n",
    "fig.subplots_adjust(left=0, right=2, bottom=0, top=2.5)\n",
    "for i,c in enumerate(sampleDF.columns[-13:]):\n",
    "# for each numerical variable, plot a histogram of non-missing values\n",
    "    ax = fig.add_subplot(dim, dim, i + 1)\n",
    "    ax.hist(sample_pd[c].dropna(), bins=50)\n",
    "    ax.set_title(sample_pd.columns[i + 1])"
   ]
  },
  {
   "cell_type": "markdown",
   "metadata": {},
   "source": [
    "### 3.8 Descriptive Analysis on Categorical Features"
   ]
  },
  {
   "cell_type": "markdown",
   "metadata": {},
   "source": [
    "We now examine the categorical features. In order to understand the size of our feature space, we need to understand the number of unique features (classes) in each categorical variable."
   ]
  },
  {
   "cell_type": "markdown",
   "metadata": {},
   "source": [
    "The table below shows the following statistics for each categorical variable in our dataset: \n",
    "\n",
    "* mode - the category that is most common within this variable\n",
    "* count - the count of the mode category\n",
    "* level - the number of unique categories within each variable"
   ]
  },
  {
   "cell_type": "code",
   "execution_count": 288,
   "metadata": {},
   "outputs": [
    {
     "data": {
      "text/html": [
       "<div>\n",
       "<style scoped>\n",
       "    .dataframe tbody tr th:only-of-type {\n",
       "        vertical-align: middle;\n",
       "    }\n",
       "\n",
       "    .dataframe tbody tr th {\n",
       "        vertical-align: top;\n",
       "    }\n",
       "\n",
       "    .dataframe thead th {\n",
       "        text-align: right;\n",
       "    }\n",
       "</style>\n",
       "<table border=\"1\" class=\"dataframe\">\n",
       "  <thead>\n",
       "    <tr style=\"text-align: right;\">\n",
       "      <th></th>\n",
       "      <th>mode</th>\n",
       "      <th>count</th>\n",
       "      <th>level</th>\n",
       "      <th>var</th>\n",
       "    </tr>\n",
       "  </thead>\n",
       "  <tbody>\n",
       "    <tr>\n",
       "      <th>0</th>\n",
       "      <td>05db9164</td>\n",
       "      <td>160396</td>\n",
       "      <td>871</td>\n",
       "      <td>C1</td>\n",
       "    </tr>\n",
       "    <tr>\n",
       "      <th>1</th>\n",
       "      <td>38a947a1</td>\n",
       "      <td>36604</td>\n",
       "      <td>542</td>\n",
       "      <td>C2</td>\n",
       "    </tr>\n",
       "    <tr>\n",
       "      <th>2</th>\n",
       "      <td>d032c263</td>\n",
       "      <td>7893</td>\n",
       "      <td>131570</td>\n",
       "      <td>C3</td>\n",
       "    </tr>\n",
       "    <tr>\n",
       "      <th>3</th>\n",
       "      <td>c18be181</td>\n",
       "      <td>11398</td>\n",
       "      <td>61171</td>\n",
       "      <td>C4</td>\n",
       "    </tr>\n",
       "    <tr>\n",
       "      <th>4</th>\n",
       "      <td>25c83c98</td>\n",
       "      <td>215116</td>\n",
       "      <td>187</td>\n",
       "      <td>C5</td>\n",
       "    </tr>\n",
       "    <tr>\n",
       "      <th>5</th>\n",
       "      <td>7e0ccccf</td>\n",
       "      <td>127307</td>\n",
       "      <td>13</td>\n",
       "      <td>C6</td>\n",
       "    </tr>\n",
       "    <tr>\n",
       "      <th>6</th>\n",
       "      <td>1c86e0eb</td>\n",
       "      <td>6698</td>\n",
       "      <td>10000</td>\n",
       "      <td>C7</td>\n",
       "    </tr>\n",
       "    <tr>\n",
       "      <th>7</th>\n",
       "      <td>0b153874</td>\n",
       "      <td>190238</td>\n",
       "      <td>391</td>\n",
       "      <td>C8</td>\n",
       "    </tr>\n",
       "    <tr>\n",
       "      <th>8</th>\n",
       "      <td>a73ee510</td>\n",
       "      <td>287981</td>\n",
       "      <td>3</td>\n",
       "      <td>C9</td>\n",
       "    </tr>\n",
       "    <tr>\n",
       "      <th>9</th>\n",
       "      <td>3b08e48b</td>\n",
       "      <td>70826</td>\n",
       "      <td>20393</td>\n",
       "      <td>C10</td>\n",
       "    </tr>\n",
       "    <tr>\n",
       "      <th>10</th>\n",
       "      <td>755e4a50</td>\n",
       "      <td>10320</td>\n",
       "      <td>4511</td>\n",
       "      <td>C11</td>\n",
       "    </tr>\n",
       "    <tr>\n",
       "      <th>11</th>\n",
       "      <td>dfbb09fb</td>\n",
       "      <td>7893</td>\n",
       "      <td>119186</td>\n",
       "      <td>C12</td>\n",
       "    </tr>\n",
       "    <tr>\n",
       "      <th>12</th>\n",
       "      <td>5978055e</td>\n",
       "      <td>10320</td>\n",
       "      <td>3080</td>\n",
       "      <td>C13</td>\n",
       "    </tr>\n",
       "    <tr>\n",
       "      <th>13</th>\n",
       "      <td>b28479f6</td>\n",
       "      <td>111807</td>\n",
       "      <td>26</td>\n",
       "      <td>C14</td>\n",
       "    </tr>\n",
       "    <tr>\n",
       "      <th>14</th>\n",
       "      <td>2d0bb053</td>\n",
       "      <td>4737</td>\n",
       "      <td>7418</td>\n",
       "      <td>C15</td>\n",
       "    </tr>\n",
       "    <tr>\n",
       "      <th>15</th>\n",
       "      <td>84898b2a</td>\n",
       "      <td>7893</td>\n",
       "      <td>95411</td>\n",
       "      <td>C16</td>\n",
       "    </tr>\n",
       "    <tr>\n",
       "      <th>16</th>\n",
       "      <td>e5ba7672</td>\n",
       "      <td>148081</td>\n",
       "      <td>10</td>\n",
       "      <td>C17</td>\n",
       "    </tr>\n",
       "    <tr>\n",
       "      <th>17</th>\n",
       "      <td>e88ffc9d</td>\n",
       "      <td>9968</td>\n",
       "      <td>3354</td>\n",
       "      <td>C18</td>\n",
       "    </tr>\n",
       "    <tr>\n",
       "      <th>18</th>\n",
       "      <td>21ddcdc9</td>\n",
       "      <td>110021</td>\n",
       "      <td>1595</td>\n",
       "      <td>C19</td>\n",
       "    </tr>\n",
       "    <tr>\n",
       "      <th>19</th>\n",
       "      <td>b1252a9d</td>\n",
       "      <td>60753</td>\n",
       "      <td>4</td>\n",
       "      <td>C20</td>\n",
       "    </tr>\n",
       "    <tr>\n",
       "      <th>20</th>\n",
       "      <td>0014c32a</td>\n",
       "      <td>7893</td>\n",
       "      <td>109256</td>\n",
       "      <td>C21</td>\n",
       "    </tr>\n",
       "    <tr>\n",
       "      <th>21</th>\n",
       "      <td>ad3062eb</td>\n",
       "      <td>43969</td>\n",
       "      <td>11</td>\n",
       "      <td>C22</td>\n",
       "    </tr>\n",
       "    <tr>\n",
       "      <th>22</th>\n",
       "      <td>32c7478e</td>\n",
       "      <td>140724</td>\n",
       "      <td>14</td>\n",
       "      <td>C23</td>\n",
       "    </tr>\n",
       "    <tr>\n",
       "      <th>23</th>\n",
       "      <td>3fdb382b</td>\n",
       "      <td>16859</td>\n",
       "      <td>23943</td>\n",
       "      <td>C24</td>\n",
       "    </tr>\n",
       "    <tr>\n",
       "      <th>24</th>\n",
       "      <td>001f3601</td>\n",
       "      <td>45481</td>\n",
       "      <td>64</td>\n",
       "      <td>C25</td>\n",
       "    </tr>\n",
       "    <tr>\n",
       "      <th>25</th>\n",
       "      <td>49d68486</td>\n",
       "      <td>13218</td>\n",
       "      <td>18027</td>\n",
       "      <td>C26</td>\n",
       "    </tr>\n",
       "  </tbody>\n",
       "</table>\n",
       "</div>"
      ],
      "text/plain": [
       "        mode   count   level  var\n",
       "0   05db9164  160396     871   C1\n",
       "1   38a947a1   36604     542   C2\n",
       "2   d032c263    7893  131570   C3\n",
       "3   c18be181   11398   61171   C4\n",
       "4   25c83c98  215116     187   C5\n",
       "5   7e0ccccf  127307      13   C6\n",
       "6   1c86e0eb    6698   10000   C7\n",
       "7   0b153874  190238     391   C8\n",
       "8   a73ee510  287981       3   C9\n",
       "9   3b08e48b   70826   20393  C10\n",
       "10  755e4a50   10320    4511  C11\n",
       "11  dfbb09fb    7893  119186  C12\n",
       "12  5978055e   10320    3080  C13\n",
       "13  b28479f6  111807      26  C14\n",
       "14  2d0bb053    4737    7418  C15\n",
       "15  84898b2a    7893   95411  C16\n",
       "16  e5ba7672  148081      10  C17\n",
       "17  e88ffc9d    9968    3354  C18\n",
       "18  21ddcdc9  110021    1595  C19\n",
       "19  b1252a9d   60753       4  C20\n",
       "20  0014c32a    7893  109256  C21\n",
       "21  ad3062eb   43969      11  C22\n",
       "22  32c7478e  140724      14  C23\n",
       "23  3fdb382b   16859   23943  C24\n",
       "24  001f3601   45481      64  C25\n",
       "25  49d68486   13218   18027  C26"
      ]
     },
     "execution_count": 288,
     "metadata": {},
     "output_type": "execute_result"
    }
   ],
   "source": [
    "# look at summary statistics of categorical features in sample (mode, counts for mode, number of levels)\n",
    "cat_summary = pd.DataFrame()\n",
    "for i in categorical_features:\n",
    "    cached = sampleDF.groupBy(i).count().cache()\n",
    "    mode = cached.orderBy('count', ascending=0).filter(i + \"!=''\").limit(1).toPandas()\n",
    "    level = cached.count()\n",
    "    mode['level'] = level\n",
    "    mode['var'] = i\n",
    "    mode.rename(columns={i:'mode'}, inplace=True)\n",
    "    cat_summary = cat_summary.append(mode, ignore_index = True)\n",
    "cat_summary"
   ]
  },
  {
   "cell_type": "markdown",
   "metadata": {},
   "source": [
    "Here we observe that a lot of categorical variables have a large number of levels. This will increase our data size significantly after doing a one-hot encoding."
   ]
  },
  {
   "cell_type": "markdown",
   "metadata": {},
   "source": [
    "To prepare for our modeling, we want to find the total number of unique classes for the entire training data, not just the sample as analyzed above. Below we determine the total classes within each categorical variable. "
   ]
  },
  {
   "cell_type": "code",
   "execution_count": 291,
   "metadata": {},
   "outputs": [
    {
     "data": {
      "text/plain": [
       "{'C1': 1460,\n",
       " 'C2': 576,\n",
       " 'C3': 7479734,\n",
       " 'C4': 1715283,\n",
       " 'C5': 305,\n",
       " 'C6': 23,\n",
       " 'C7': 12470,\n",
       " 'C8': 633,\n",
       " 'C9': 3,\n",
       " 'C10': 86512,\n",
       " 'C11': 5642,\n",
       " 'C12': 6226827,\n",
       " 'C13': 3194,\n",
       " 'C14': 27,\n",
       " 'C15': 14585,\n",
       " 'C16': 4133545,\n",
       " 'C17': 10,\n",
       " 'C18': 5536,\n",
       " 'C19': 2161,\n",
       " 'C20': 3,\n",
       " 'C21': 5293211,\n",
       " 'C22': 17,\n",
       " 'C23': 15,\n",
       " 'C24': 243392,\n",
       " 'C25': 104,\n",
       " 'C26': 127633}"
      ]
     },
     "execution_count": 291,
     "metadata": {},
     "output_type": "execute_result"
    }
   ],
   "source": [
    "uniqueCounts = {}\n",
    "for c in trainDF.columns[14:]:\n",
    "    count = trainDF.agg(F.countDistinct(c).alias('c')).collect()[0]['c']\n",
    "    uniqueCounts[c] = count\n",
    "    \n",
    "uniqueCounts"
   ]
  },
  {
   "cell_type": "markdown",
   "metadata": {},
   "source": [
    "Some categorical features have extremely large number of unique categories. `C3`, `C12`, `C16`, `C21` each have more than 4 million distinct categories. The majority of other categorical featuress have more than 500 distinct categories each.  \n",
    "\n",
    "If we encoded all categorical features using a one-hot encoding scheme, the feature space would be extremely large. In order to reduce the amount of time that takes models to run and avoid the curse of dimensionality, we need to reduce feature dimensions. We discuss our approach to handling this in Section 3.9 Summary of Challenges."
   ]
  },
  {
   "cell_type": "markdown",
   "metadata": {},
   "source": [
    "### 3.9 **Summary of Challenges** --------------------------------------------------------------------------------------<< \n",
    "\n",
    "The EDA analysis above has demonstrated four main challenges we are facing:  \n",
    "> (1) Missing Values  \n",
    "24 of 39 features in the training set have missing values. Some features such as `I12`, `C22` have around 76.5% missing values. Many algorithms do not work well with missing values. For example, in logistic regression models, prediction cannot be calculated if one or more features have missing values. So before we move onto the modeling phase (Section 4), we have to replace missing values with something else.  \n",
    "\n",
    "> Depending on the cause of missing values, some missing values have predictive power while others don't. Since we do not know what each feature represents, it's hard to determine the nature of missing values. To be safe, we assume missing values are meaningful for modeling. In our implementation, we create a missing indicator for each feature with a missing value and impute a 0 for the missing numeric value (see Section 3.10 for implementation). \n",
    "\n",
    "> (2) Class Imbalances  \n",
    "Roughly 25% of observations are in Class 1, which indicates an ad was clicked, while the remaining 75% of observations are in Class 0. The classes are mildly imbalanced. As mentioned in Section 3.5, there are three common techniques to deal with imbalanced data, such as oversampling the minority class, undersampling the majority class, or using a performance metric other than accuracy. For simplicity and due to time constraints, we chose the third option. If we had more time, we would have compared model performance among those three options.\n",
    "\n",
    "> Accuracy is not a good measure of model performance in the case of imbalanced data. A model that predicts every observation as 0 scores 75% on accuracy even though the model is practically useless in predicting ad click. Instead, we should use F1 score (the harmonic average of precision and recall). Precision measures the ratio of actual ad clicks to the total predicted ad clicks. Recall measures the ratio of predicted ad clicks to the total actual ad clicks. Since we want to maximize both precision and recall, F1 score is a good metric that balances both precision and recall and takes into account both false positives and false negatives.\n",
    "\n",
    "> (3) Large Feature Space  \n",
    "Our data has 13 numetric features and 26 categorical features. There are in total of 25,352,901 distinct categories across 26 categorical features. If we encoded all categorical features using a one-hot encoding scheme, we would have 253,528,88 features (= number of numeric features + total number of distinct categories in categorical features - number of categorical features = 13 + 25,352,901 - 26). This would create at least two issues, 1) It would take a very long to train a model with that many features, and 2) The number of features are too large relative to the number of observations in the training data, which would result in severe overfitting and unstable parameter estimates. We will apply two techniques to reduce feature dimensions - feature hashing (Section 3.11) and principal component analysis (Section 3.12). \n",
    "\n",
    "> (4) Numeric features with significantly different means and scales  \n",
    "13 numeric features have significantly different means and scales and are highly skewed. Without feature scaling or normalization, the surface of the logistic regression cost function will have high curvature ellipse, which will result in gradient descent taking steps toward suboptimal directions. Normalization will help reduce thos curvature and make it more circular. Correspondingly, it will take less steps for gradient descent to reach the minimum. \n"
   ]
  },
  {
   "cell_type": "markdown",
   "metadata": {},
   "source": [
    "### 3.10 Handle Missing Values"
   ]
  },
  {
   "cell_type": "markdown",
   "metadata": {},
   "source": [
    "Create a missing value indicator for every feature with missing values, and replace missing values in the original features with 0 for numeric and '0' for categorical"
   ]
  },
  {
   "cell_type": "code",
   "execution_count": 24,
   "metadata": {},
   "outputs": [],
   "source": [
    "## Below are lists of features with missing values, which has been defined in Section 3.4\n",
    "# numeric_features_miss = [\"I1\",\"I3\",\"I4\",\"I5\",\"I6\",\"I7\",\"I8\",\"I9\",\"I10\",\"I11\",\"I12\",\"I13\"]\n",
    "# categorical_features_miss = [\"C3\",\"C4\",\"C6\",\"C12\",\"C16\",\"C19\",\"C20\",\"C21\",\"C22\",\"C24\",\"C25\",\"C26\"]\n",
    "features_miss = numeric_features_miss + categorical_features_miss\n",
    "\n",
    "## Create a dictionary\n",
    "##     Key: features with missing values\n",
    "##     Value: the value NaN should be replaced with\n",
    "features_miss0_dict = dict()\n",
    "for feature in numeric_features_miss:\n",
    "    features_miss0_dict.update({feature: 0})\n",
    "for feature in categorical_features_miss:\n",
    "    features_miss0_dict.update({feature: '0'})\n",
    "    \n",
    "def handleMissing(df):\n",
    "    ## Create missing indicator for each feature with missing values\n",
    "    for column in features_miss:\n",
    "        df = df.withColumn(column+\"_missInd\", when(F.col(column).isNull(), 1).otherwise(0))\n",
    "    ## Replace missing values in the original features with 0 for numberic features and '0' for categorical features\n",
    "    df = df.fillna(features_miss0_dict)\n",
    "    df.cache()\n",
    "    return df"
   ]
  },
  {
   "cell_type": "code",
   "execution_count": 25,
   "metadata": {},
   "outputs": [],
   "source": [
    "trainDF_noMiss = handleMissing(trainDF)\n",
    "validationDF_noMiss = handleMissing(validationDF)"
   ]
  },
  {
   "cell_type": "code",
   "execution_count": 26,
   "metadata": {},
   "outputs": [
    {
     "name": "stdout",
     "output_type": "stream",
     "text": [
      "+-----+---+---+---+---+----+---+---+---+---+---+---+---+---+--------+--------+--------+--------+--------+--------+--------+--------+--------+--------+--------+--------+--------+--------+--------+--------+--------+--------+--------+--------+--------+---+--------+--------+--------+--------+----------+----------+----------+----------+----------+----------+----------+----------+-----------+-----------+-----------+-----------+----------+----------+----------+-----------+-----------+-----------+-----------+-----------+-----------+-----------+-----------+-----------+\n",
      "|Label| I1| I2| I3| I4|  I5| I6| I7| I8| I9|I10|I11|I12|I13|      C1|      C2|      C3|      C4|      C5|      C6|      C7|      C8|      C9|     C10|     C11|     C12|     C13|     C14|     C15|     C16|     C17|     C18|     C19|     C20|     C21|C22|     C23|     C24|     C25|     C26|I1_missInd|I3_missInd|I4_missInd|I5_missInd|I6_missInd|I7_missInd|I8_missInd|I9_missInd|I10_missInd|I11_missInd|I12_missInd|I13_missInd|C3_missInd|C4_missInd|C6_missInd|C12_missInd|C16_missInd|C19_missInd|C20_missInd|C21_missInd|C22_missInd|C24_missInd|C25_missInd|C26_missInd|\n",
      "+-----+---+---+---+---+----+---+---+---+---+---+---+---+---+--------+--------+--------+--------+--------+--------+--------+--------+--------+--------+--------+--------+--------+--------+--------+--------+--------+--------+--------+--------+--------+---+--------+--------+--------+--------+----------+----------+----------+----------+----------+----------+----------+----------+-----------+-----------+-----------+-----------+----------+----------+----------+-----------+-----------+-----------+-----------+-----------+-----------+-----------+-----------+-----------+\n",
      "|    0|  1|  1|  5|  0|1382|  4| 15|  2|181|  1|  2|  0|  2|68fd1e64|80e26c9b|fb936136|7b4723c4|25c83c98|7e0ccccf|de7995b8|1f89b562|a73ee510|a8cd5504|b2cb9c98|37c9c164|2824a5f6|1adce6ef|8ba8b39a|891b62e7|e5ba7672|f54016b9|21ddcdc9|b1252a9d|07b5194c|  0|3a171ecb|c5c50484|e8b83407|9727dd16|         0|         0|         0|         0|         0|         0|         0|         0|          0|          0|          1|          0|         0|         0|         0|          0|          0|          0|          0|          0|          1|          0|          0|          0|\n",
      "+-----+---+---+---+---+----+---+---+---+---+---+---+---+---+--------+--------+--------+--------+--------+--------+--------+--------+--------+--------+--------+--------+--------+--------+--------+--------+--------+--------+--------+--------+--------+---+--------+--------+--------+--------+----------+----------+----------+----------+----------+----------+----------+----------+-----------+-----------+-----------+-----------+----------+----------+----------+-----------+-----------+-----------+-----------+-----------+-----------+-----------+-----------+-----------+\n",
      "only showing top 1 row\n",
      "\n"
     ]
    }
   ],
   "source": [
    "trainDF_noMiss.show(1)"
   ]
  },
  {
   "cell_type": "markdown",
   "metadata": {},
   "source": [
    "### 3.11 Feature Hashing (a.k.a. The Hashing Trick)"
   ]
  },
  {
   "cell_type": "markdown",
   "metadata": {},
   "source": [
    "Feature hashing is a powerful technique for handling sparse, high-dimensional features in machine learning. It is fast, simple, memory-efficient, and well-suited to online learning scenarios. While an approximation, it has surprisingly low accuracy tradeoffs in many machine learning problems.\n",
    "The core idea behind feature hashing is relatively simple: Instead of maintaining a one-to-one mapping of categorical feature values to locations in the feature vector, we use a hash function to determine the feature's location in a vector of lower dimension.This is done using the hashing trick to map features to indices in the feature vector. More discussions on feature hashing are in Section 5.2."
   ]
  },
  {
   "cell_type": "markdown",
   "metadata": {},
   "source": [
    "The number of features has to be power of 2, so we decided to use 32.  "
   ]
  },
  {
   "cell_type": "code",
   "execution_count": 27,
   "metadata": {},
   "outputs": [],
   "source": [
    "# 2^n \n",
    "numFeatures_hashing = 2**5\n",
    "hasher = FeatureHasher(inputCols=categorical_features,\n",
    "                        outputCol=\"FH_features\",\n",
    "                        numFeatures = numFeatures_hashing)\n",
    "pipeline = Pipeline(stages=[hasher])\n",
    "model = pipeline.fit(trainDF_noMiss)\n",
    "featTrainDF = model.transform(trainDF_noMiss)\n",
    "featValDF = model.transform(validationDF_noMiss)"
   ]
  },
  {
   "cell_type": "code",
   "execution_count": 28,
   "metadata": {},
   "outputs": [
    {
     "name": "stdout",
     "output_type": "stream",
     "text": [
      "+-----+---+---+---+---+----+---+---+---+---+---+---+---+---+--------+--------+--------+--------+--------+--------+--------+--------+--------+--------+--------+--------+--------+--------+--------+--------+--------+--------+--------+--------+--------+---+--------+--------+--------+--------+----------+----------+----------+----------+----------+----------+----------+----------+-----------+-----------+-----------+-----------+----------+----------+----------+-----------+-----------+-----------+-----------+-----------+-----------+-----------+-----------+-----------+------------------------------------------------------------------------------------------------------------------------------------------------------+\n",
      "|Label|I1 |I2 |I3 |I4 |I5  |I6 |I7 |I8 |I9 |I10|I11|I12|I13|C1      |C2      |C3      |C4      |C5      |C6      |C7      |C8      |C9      |C10     |C11     |C12     |C13     |C14     |C15     |C16     |C17     |C18     |C19     |C20     |C21     |C22|C23     |C24     |C25     |C26     |I1_missInd|I3_missInd|I4_missInd|I5_missInd|I6_missInd|I7_missInd|I8_missInd|I9_missInd|I10_missInd|I11_missInd|I12_missInd|I13_missInd|C3_missInd|C4_missInd|C6_missInd|C12_missInd|C16_missInd|C19_missInd|C20_missInd|C21_missInd|C22_missInd|C24_missInd|C25_missInd|C26_missInd|FH_features                                                                                                                                           |\n",
      "+-----+---+---+---+---+----+---+---+---+---+---+---+---+---+--------+--------+--------+--------+--------+--------+--------+--------+--------+--------+--------+--------+--------+--------+--------+--------+--------+--------+--------+--------+--------+---+--------+--------+--------+--------+----------+----------+----------+----------+----------+----------+----------+----------+-----------+-----------+-----------+-----------+----------+----------+----------+-----------+-----------+-----------+-----------+-----------+-----------+-----------+-----------+-----------+------------------------------------------------------------------------------------------------------------------------------------------------------+\n",
      "|0    |1  |1  |5  |0  |1382|4  |15 |2  |181|1  |2  |0  |2  |68fd1e64|80e26c9b|fb936136|7b4723c4|25c83c98|7e0ccccf|de7995b8|1f89b562|a73ee510|a8cd5504|b2cb9c98|37c9c164|2824a5f6|1adce6ef|8ba8b39a|891b62e7|e5ba7672|f54016b9|21ddcdc9|b1252a9d|07b5194c|0  |3a171ecb|c5c50484|e8b83407|9727dd16|0         |0         |0         |0         |0         |0         |0         |0         |0          |0          |1          |0          |0         |0         |0         |0          |0          |0          |0          |0          |1          |0          |0          |0          |(32,[0,4,5,6,9,10,11,12,13,14,16,20,21,22,23,25,26,27,28,29,30],[1.0,2.0,1.0,2.0,1.0,1.0,1.0,1.0,2.0,1.0,1.0,1.0,1.0,2.0,1.0,1.0,1.0,1.0,2.0,1.0,1.0])|\n",
      "+-----+---+---+---+---+----+---+---+---+---+---+---+---+---+--------+--------+--------+--------+--------+--------+--------+--------+--------+--------+--------+--------+--------+--------+--------+--------+--------+--------+--------+--------+--------+---+--------+--------+--------+--------+----------+----------+----------+----------+----------+----------+----------+----------+-----------+-----------+-----------+-----------+----------+----------+----------+-----------+-----------+-----------+-----------+-----------+-----------+-----------+-----------+-----------+------------------------------------------------------------------------------------------------------------------------------------------------------+\n",
      "only showing top 1 row\n",
      "\n"
     ]
    }
   ],
   "source": [
    "featTrainDF.show(1,truncate=False)"
   ]
  },
  {
   "cell_type": "markdown",
   "metadata": {},
   "source": [
    "Features constructed from feature hashing are in a vector form, so we need to extract those features out."
   ]
  },
  {
   "cell_type": "code",
   "execution_count": 32,
   "metadata": {},
   "outputs": [],
   "source": [
    "## Create a list of feature names that has surfix \"_missInd\"\n",
    "feature_missInd_lst = []\n",
    "for feature in features_miss:\n",
    "    feature_missInd_lst.append(feature+\"_missInd\")\n",
    "        \n",
    "def extract_FeatureHashing_features(df):\n",
    "    \n",
    "    ## Create the header for df2\n",
    "    header2 = ['Label'] + numeric_features + feature_missInd_lst\n",
    "    \n",
    "    def extract_FH(row):\n",
    "        return (row.Label,row.I1,row.I2,row.I3,row.I4,row.I5,row.I6,row.I7,row.I8,row.I9,row.I10,row.I11,row.I12,row.I13,row.I1_missInd,row.I3_missInd,row.I4_missInd,row.I5_missInd,row.I6_missInd,row.I7_missInd,row.I8_missInd,row.I9_missInd,row.I10_missInd,row.I11_missInd,row.I12_missInd,row.I13_missInd,row.C3_missInd,row.C4_missInd,row.C6_missInd,row.C12_missInd,row.C16_missInd,row.C19_missInd,row.C20_missInd,row.C21_missInd,row.C22_missInd,row.C24_missInd,row.C25_missInd,row.C26_missInd,) + tuple(row.FH_features)\n",
    "#         r=[]\n",
    "#         for col in header2:\n",
    "#             r.append(row.__getattr__(col))\n",
    "#         return tuple(r) + tuple(row.FH_features)\n",
    "        \n",
    "    def mapper_int(line):\n",
    "        temp_lst = []\n",
    "        for i in line:\n",
    "            temp_lst.append(int(i))\n",
    "        return tuple(temp_lst)\n",
    "\n",
    "    dataRDD = df.rdd.map(extract_FH)\n",
    "    \n",
    "    ## Had to convert to int first because toDF doesn't like numpy.float64\n",
    "    df2 = dataRDD.map(mapper_int).toDF(header2) # Vector values will be named _2, _3, ...\n",
    "    \n",
    "    return df2"
   ]
  },
  {
   "cell_type": "code",
   "execution_count": 33,
   "metadata": {},
   "outputs": [],
   "source": [
    "featTrainDF2 = extract_FeatureHashing_features(featTrainDF)\n",
    "featValDF2 = extract_FeatureHashing_features(featValDF)"
   ]
  },
  {
   "cell_type": "markdown",
   "metadata": {},
   "source": [
    "### 3.12 Principal Component Analysis (PCA)"
   ]
  },
  {
   "cell_type": "markdown",
   "metadata": {},
   "source": [
    "Principal component analysis is a common technique for dimension reduction. It trains a model to project vectors to a lower-dimensional space. To use PCA from pyspark.ml package, we need to convert features to a vector form first."
   ]
  },
  {
   "cell_type": "code",
   "execution_count": 34,
   "metadata": {},
   "outputs": [],
   "source": [
    "## Create a vector of all features in preparation for PCA\n",
    "header3 = numeric_features + feature_missInd_lst\n",
    "from pyspark.ml.feature import VectorAssembler\n",
    "vecAssembler = VectorAssembler(inputCols=header3, outputCol=\"features\")\n",
    "featTrainDF3 = vecAssembler.transform(featTrainDF2)\n",
    "featValDF3 = vecAssembler.transform(featValDF2)"
   ]
  },
  {
   "cell_type": "markdown",
   "metadata": {},
   "source": [
    "Perform PCA"
   ]
  },
  {
   "cell_type": "code",
   "execution_count": 35,
   "metadata": {},
   "outputs": [],
   "source": [
    "pca = PCAml(k=10, inputCol=\"features\", outputCol=\"pca\")\n",
    "model = pca.fit(featTrainDF3)\n",
    "featTrainDF_PCA_raw = model.transform(featTrainDF3)\n",
    "featValDF_PCA_raw = model.transform(featValDF3)"
   ]
  },
  {
   "cell_type": "code",
   "execution_count": 36,
   "metadata": {},
   "outputs": [
    {
     "name": "stdout",
     "output_type": "stream",
     "text": [
      "+-----+---+---+---+---+----+---+---+---+---+---+---+---+---+----------+----------+----------+----------+----------+----------+----------+----------+-----------+-----------+-----------+-----------+----------+----------+----------+-----------+-----------+-----------+-----------+-----------+-----------+-----------+-----------+-----------+---+---+---+---+---+---+---+---+---+---+---+---+---+---+---+---+---+---+---+---+---+---+---+---+---+---+---+---+---+---+---+---+------------------------------------------------------------------------------------------------+-----------------------------------------------------------------------------------------------------------------------------------------------------------------------------------------------------+\n",
      "|Label|I1 |I2 |I3 |I4 |I5  |I6 |I7 |I8 |I9 |I10|I11|I12|I13|I1_missInd|I3_missInd|I4_missInd|I5_missInd|I6_missInd|I7_missInd|I8_missInd|I9_missInd|I10_missInd|I11_missInd|I12_missInd|I13_missInd|C3_missInd|C4_missInd|C6_missInd|C12_missInd|C16_missInd|C19_missInd|C20_missInd|C21_missInd|C22_missInd|C24_missInd|C25_missInd|C26_missInd|_39|_40|_41|_42|_43|_44|_45|_46|_47|_48|_49|_50|_51|_52|_53|_54|_55|_56|_57|_58|_59|_60|_61|_62|_63|_64|_65|_66|_67|_68|_69|_70|features                                                                                        |pca                                                                                                                                                                                                  |\n",
      "+-----+---+---+---+---+----+---+---+---+---+---+---+---+---+----------+----------+----------+----------+----------+----------+----------+----------+-----------+-----------+-----------+-----------+----------+----------+----------+-----------+-----------+-----------+-----------+-----------+-----------+-----------+-----------+-----------+---+---+---+---+---+---+---+---+---+---+---+---+---+---+---+---+---+---+---+---+---+---+---+---+---+---+---+---+---+---+---+---+------------------------------------------------------------------------------------------------+-----------------------------------------------------------------------------------------------------------------------------------------------------------------------------------------------------+\n",
      "|0    |1  |1  |5  |0  |1382|4  |15 |2  |181|1  |2  |0  |2  |0         |0         |0         |0         |0         |0         |0         |0         |0          |0          |1          |0          |0         |0         |0         |0          |0          |0          |0          |0          |1          |0          |0          |0          |1  |0  |0  |0  |2  |1  |2  |0  |0  |1  |1  |1  |1  |2  |1  |0  |1  |0  |0  |0  |1  |1  |2  |1  |0  |1  |1  |1  |2  |1  |1  |0  |(37,[0,1,2,4,5,6,7,8,9,10,12,23,33],[1.0,1.0,5.0,1382.0,4.0,15.0,2.0,181.0,1.0,2.0,2.0,1.0,1.0])|[1381.9598799416754,1.139127599358277,7.8998619854444465,-38.536745626565875,-177.76357628485474,0.6053638498117478,-1.1373197382080977,-0.02668039394059504,-0.24634346617661743,1.1785283323995943]|\n",
      "+-----+---+---+---+---+----+---+---+---+---+---+---+---+---+----------+----------+----------+----------+----------+----------+----------+----------+-----------+-----------+-----------+-----------+----------+----------+----------+-----------+-----------+-----------+-----------+-----------+-----------+-----------+-----------+-----------+---+---+---+---+---+---+---+---+---+---+---+---+---+---+---+---+---+---+---+---+---+---+---+---+---+---+---+---+---+---+---+---+------------------------------------------------------------------------------------------------+-----------------------------------------------------------------------------------------------------------------------------------------------------------------------------------------------------+\n",
      "only showing top 1 row\n",
      "\n",
      "+-----+---+---+---+---+---+---+---+---+---+---+---+---+---+----------+----------+----------+----------+----------+----------+----------+----------+-----------+-----------+-----------+-----------+----------+----------+----------+-----------+-----------+-----------+-----------+-----------+-----------+-----------+-----------+-----------+---+---+---+---+---+---+---+---+---+---+---+---+---+---+---+---+---+---+---+---+---+---+---+---+---+---+---+---+---+---+---+---+---------------------------------------------------------------------------------------------+-------------------------------------------------------------------------------------------------------------------------------------------------------------------------------------------+\n",
      "|Label|I1 |I2 |I3 |I4 |I5 |I6 |I7 |I8 |I9 |I10|I11|I12|I13|I1_missInd|I3_missInd|I4_missInd|I5_missInd|I6_missInd|I7_missInd|I8_missInd|I9_missInd|I10_missInd|I11_missInd|I12_missInd|I13_missInd|C3_missInd|C4_missInd|C6_missInd|C12_missInd|C16_missInd|C19_missInd|C20_missInd|C21_missInd|C22_missInd|C24_missInd|C25_missInd|C26_missInd|_39|_40|_41|_42|_43|_44|_45|_46|_47|_48|_49|_50|_51|_52|_53|_54|_55|_56|_57|_58|_59|_60|_61|_62|_63|_64|_65|_66|_67|_68|_69|_70|features                                                                                     |pca                                                                                                                                                                                        |\n",
      "+-----+---+---+---+---+---+---+---+---+---+---+---+---+---+----------+----------+----------+----------+----------+----------+----------+----------+-----------+-----------+-----------+-----------+----------+----------+----------+-----------+-----------+-----------+-----------+-----------+-----------+-----------+-----------+-----------+---+---+---+---+---+---+---+---+---+---+---+---+---+---+---+---+---+---+---+---+---+---+---+---+---+---+---+---+---+---+---+---+---------------------------------------------------------------------------------------------+-------------------------------------------------------------------------------------------------------------------------------------------------------------------------------------------+\n",
      "|0    |2  |0  |44 |1  |102|8  |2  |2  |4  |1  |1  |0  |4  |0         |0         |0         |0         |0         |0         |0         |0         |0          |0          |1          |0          |0         |0         |0         |0          |0          |0          |0          |0          |1          |0          |0          |0          |0  |2  |1  |1  |1  |0  |1  |0  |0  |1  |2  |1  |2  |2  |0  |1  |1  |1  |0  |0  |0  |0  |2  |1  |0  |1  |1  |0  |0  |3  |1  |0  |(37,[0,2,3,4,5,6,7,8,9,10,12,23,33],[2.0,44.0,1.0,102.0,8.0,2.0,2.0,4.0,1.0,1.0,4.0,1.0,1.0])|[101.99820089608052,2.206182477812399,44.53114668242229,-4.842678684374313,-2.7535285104831746,1.9052024642316703,4.084006332845153,-1.534218645612921,1.2273630822308805,1.50518183015591]|\n",
      "+-----+---+---+---+---+---+---+---+---+---+---+---+---+---+----------+----------+----------+----------+----------+----------+----------+----------+-----------+-----------+-----------+-----------+----------+----------+----------+-----------+-----------+-----------+-----------+-----------+-----------+-----------+-----------+-----------+---+---+---+---+---+---+---+---+---+---+---+---+---+---+---+---+---+---+---+---+---+---+---+---+---+---+---+---+---+---+---+---+---------------------------------------------------------------------------------------------+-------------------------------------------------------------------------------------------------------------------------------------------------------------------------------------------+\n",
      "only showing top 1 row\n",
      "\n"
     ]
    }
   ],
   "source": [
    "featTrainDF_PCA_raw.show(1, False)\n",
    "featValDF_PCA_raw.show(1, False)"
   ]
  },
  {
   "cell_type": "markdown",
   "metadata": {},
   "source": [
    "We decide to keep 10 PCA components and save it in a format `(actual, prediction, [1, list of PCA components])`. No modeling has been performed so far. Prediction is initialized as 0."
   ]
  },
  {
   "cell_type": "code",
   "execution_count": 37,
   "metadata": {},
   "outputs": [],
   "source": [
    "featTrainDF_PCA = featTrainDF_PCA_raw.rdd.map(lambda row: (row.Label,0, np.array([1]+list(row.pca))))\n",
    "featValDF_PCA = featValDF_PCA_raw.rdd.map(lambda row: (row.Label,0, np.array([1]+list(row.pca))))"
   ]
  },
  {
   "cell_type": "markdown",
   "metadata": {},
   "source": [
    "### 3.13 Normalization"
   ]
  },
  {
   "cell_type": "markdown",
   "metadata": {},
   "source": [
    "Perform mean normalization"
   ]
  },
  {
   "cell_type": "code",
   "execution_count": 39,
   "metadata": {},
   "outputs": [],
   "source": [
    "def normalize(trainRDD,validationRDD):\n",
    "    \"\"\"\n",
    "    Scale and center data round mean of each feature.\n",
    "    Args:\n",
    "        dataRDD - records are tuples of (actual, prediction, features_array)\n",
    "    Returns:\n",
    "        normedRDD - records are tuples of (actual, prediction, features_array)\n",
    "    \"\"\"\n",
    "    featureMeans = trainRDD.map(lambda x: x[2]).mean()\n",
    "    featureStdev = np.sqrt(trainRDD.map(lambda x: x[2]).variance())\n",
    "    featureMeans_bc = sc.broadcast(featureMeans)\n",
    "    featureStdev_bc = sc.broadcast(featureStdev)\n",
    "    normedTrainRDD = trainRDD.map(lambda x: (x[0],x[1],(x[2]-featureMeans_bc.value)/featureStdev_bc.value))\n",
    "    normedValidationRDD = validationRDD.map(lambda x: (x[0],x[1],(x[2]-featureMeans_bc.value)/featureStdev_bc.value))\n",
    "    return normedTrainRDD, normedValidationRDD"
   ]
  },
  {
   "cell_type": "code",
   "execution_count": 40,
   "metadata": {},
   "outputs": [
    {
     "name": "stdout",
     "output_type": "stream",
     "text": [
      "... normalized in 5028.4987280368805 seconds.\n"
     ]
    }
   ],
   "source": [
    "start = time.time()\n",
    "normedTrainRDD_final, normedValidationRDD_final = normalize(featTrainDF_PCA, featValDF_PCA)\n",
    "print(f'... normalized in {time.time() - start} seconds.')"
   ]
  },
  {
   "cell_type": "markdown",
   "metadata": {},
   "source": [
    "Since `1` in `(actual, prediction, [1, list of PCA components])` is a constnat, it becomes undefined after normalization. Replace it with 1."
   ]
  },
  {
   "cell_type": "code",
   "execution_count": 42,
   "metadata": {},
   "outputs": [],
   "source": [
    "def mapper_firstFeature1(line):\n",
    "    (actual, pred, feature) = line\n",
    "    feature = np.append(np.array([1]), feature[1:])\n",
    "    return (actual, pred, feature)\n",
    "\n",
    "normedTrainRDD_final = normedTrainRDD_final.map(mapper_firstFeature1)\n",
    "normedValidationRDD_final = normedValidationRDD_final.map(mapper_firstFeature1)"
   ]
  },
  {
   "cell_type": "markdown",
   "metadata": {},
   "source": [
    "# Section 4 - Algorithm Implementation"
   ]
  },
  {
   "cell_type": "markdown",
   "metadata": {},
   "source": [
    "We have already taken our training data and performed the following steps (as shown in Seciton 3):\n",
    "\n",
    "* Handle missing data\n",
    "* Feature hashing \n",
    "* Principle Component Analysis\n",
    "* Normalization\n",
    "\n",
    "Finally, we run the data through our home grown logistic regression model (same function as in Section 2). "
   ]
  },
  {
   "cell_type": "code",
   "execution_count": 7,
   "metadata": {},
   "outputs": [],
   "source": [
    "def homeGrownLogistic(dataRDD, learningRate=0.1, regType='None', regParam=0.1, iterNum=0, tol=0.001, verbose=0):\n",
    "    \"\"\"\n",
    "    Perform one gradient descent step/update with ridge or lasso regularization.\n",
    "    Args:\n",
    "        dataRDD - tuple of (actual, prediction, [1, features])\n",
    "        learningRate - (float) defaults to 0.1\n",
    "        regType - (str) 'ridge' or 'lasso', defaults to None\n",
    "            regParam - (float) regularization term coefficient, defaults to 0.1\n",
    "        iterNum - (int) number of iterations of gradient descent, max number of iterations is 1000\n",
    "            tol - (float) tolerance of max change in gradient if iterNum is not specified by user or <= 0\n",
    "        verbose - (int) 1 to print additional info, defaults to 0\n",
    "    Returns:\n",
    "        a dictionary that is composed of:\n",
    "        weight - (array) parameter estimates, bias at index 0\n",
    "        history_cost - (list) cost after each iteration\n",
    "    \"\"\"\n",
    "    \n",
    "    ## To resolve math overflow error\n",
    "    ## Reference: https://stackoverflow.com/questions/36268077/overflow-math-range-error-for-log-or-exp?rq=1\n",
    "    def sigmoid(x):\n",
    "        if x < 0:\n",
    "            return 1 - 1/(1 + math.exp(x))\n",
    "        else:\n",
    "            return 1/(1 + math.exp(-x))\n",
    "\n",
    "    def mapper_update_cost_gradient(line):\n",
    "        \"\"\"\n",
    "        This mapper performs 3 tasks:\n",
    "        - Update the prediction based on new weights\n",
    "        - Calculate cost\n",
    "        - Calculate gradient\n",
    "\n",
    "        INPUT: actual, prediction, (1, features)\n",
    "        OUTPUT: cost, gradient as a list\n",
    "        \"\"\"\n",
    "        (actual, pred, feature) = line\n",
    "\n",
    "        z = np.sum(np.array(feature)*weight_bc.value)\n",
    "        ## Bound the prediction between 0.000001 and 0.999999 \n",
    "        ##     so that log(prediction) or log(1-prediction) doesn't encounter math domain error\n",
    "        pred = min(max(sigmoid(z), 0.000001), 0.999999)\n",
    "\n",
    "        if actual == 1:\n",
    "            cost = - math.log(pred)\n",
    "        else:\n",
    "            cost = - math.log(1-pred)\n",
    "\n",
    "        gradient = np.array(feature)*(pred-actual)\n",
    "\n",
    "        return (cost, gradient)\n",
    "\n",
    "    \n",
    "    dataRDD.cache()\n",
    "    \n",
    "    nObs = dataRDD.count()\n",
    "    nFeature = len(dataRDD.take(1)[0][2])\n",
    "    nFeature_bc = sc.broadcast(nFeature)\n",
    "    \n",
    "    ## Initialization\n",
    "    weight_init_arr = np.zeros(nFeature)\n",
    "#     weight_init_arr = np.array([0.02, 0.001, -0.002, 0, -0.1])\n",
    "    weight_arr = weight_init_arr\n",
    "    old_grad_arr = np.zeros(nFeature)\n",
    "    max_chg_grad = 1000 # an arbitrary large number\n",
    "    history_cost_lst = []\n",
    "    \n",
    "    \n",
    "    for i in range(1000):\n",
    "        if iterNum > 0:\n",
    "            if i == iterNum:\n",
    "                break\n",
    "        else:\n",
    "            if max_chg_grad < tol:\n",
    "                break\n",
    "\n",
    "        weight_bc = sc.broadcast(weight_arr)\n",
    "        cost_gradient_temp = dataRDD.map(mapper_update_cost_gradient).reduce(lambda x, y: (x[0]+y[0],x[1]+y[1]))\n",
    "\n",
    "        cost = cost_gradient_temp[0] / nObs\n",
    "        history_cost_lst.append(cost)\n",
    "\n",
    "        grad_arr = cost_gradient_temp[1] / nObs\n",
    "        if regType == 'lasso':\n",
    "            grad_arr += regParam*np.append([0.0], np.sign(weight_arr[1:]))\n",
    "        elif regType == 'ridge':\n",
    "            grad_arr += 2*regParam*np.append([0.0], weight_arr[1:])\n",
    "            \n",
    "        max_chg_grad = np.max(np.abs(grad_arr - old_grad_arr))\n",
    "        old_grad_arr = grad_arr\n",
    "        \n",
    "        step_arr = grad_arr * learningRate\n",
    "        weight_arr -= step_arr\n",
    "\n",
    "        if verbose == 1:\n",
    "            print(\"--------------\")\n",
    "            print(f'ITERATION: {i+1}')  \n",
    "            print(f'cost_gradient_temp is {cost_gradient_temp}')\n",
    "            print(f'Gradients are {grad_arr}')\n",
    "            print(f'Max change in gradient is {max_chg_grad}')\n",
    "            print(f'Weights are {weight_arr}')\n",
    "            print(f'cost is {cost}')\n",
    "        else:\n",
    "            if (i+1) % 10 == 0:\n",
    "                print(f'ITERATION {i+1}: cost = {cost}')\n",
    "    \n",
    "    if i % 10 != 0:\n",
    "        print(f'ITERATION {i}: cost = {cost}')\n",
    "        \n",
    "    return {'weight': weight_arr, 'history_cost': history_cost_lst}"
   ]
  },
  {
   "cell_type": "code",
   "execution_count": 66,
   "metadata": {},
   "outputs": [],
   "source": [
    "def homeGrownLogistic_score(dataRDD, model):\n",
    "    weight_arr_final_bc = sc.broadcast(model)\n",
    "    def sigmoid(x):\n",
    "        if x < 0:\n",
    "            return 1 - 1/(1 + math.exp(x))\n",
    "        else:\n",
    "            return 1/(1 + math.exp(-x))\n",
    "    def mapper_score(line):\n",
    "        \"\"\"\n",
    "        This mapper performs 3 tasks:\n",
    "        - Update the prediction based on new weights\n",
    "        - Calculate cost\n",
    "        - Calculate gradient\n",
    "\n",
    "        INPUT: actual, prediction, (1, features)\n",
    "        OUTPUT: cost, gradient as a list\n",
    "        \"\"\"\n",
    "        (actual, pred, feature) = line\n",
    "\n",
    "        z = np.sum(np.array(feature)*weight_arr_final_bc.value)\n",
    "        ## Bound the prediction between 0.000001 and 0.999999 \n",
    "        ##     so that log(prediction) or log(1-prediction) doesn't encounter math domain error\n",
    "        pred = min(max(sigmoid(z), 0.000001), 0.999999)\n",
    "\n",
    "        return (actual, pred)\n",
    "    \n",
    "    dataRDD_out = dataRDD.map(mapper_score)\n",
    "    \n",
    "    return dataRDD_out"
   ]
  },
  {
   "cell_type": "markdown",
   "metadata": {},
   "source": [
    "Below we show the accuracy and f1 score metrics for the model predictions. We make these calculations in Spark on the full dataset. We can also see that the accuracy metric is not very useful, and the f1 score is most important. In order to make these calculations, we calculate the true positives, true negatives, false positives, and false negatives. \n",
    "\n",
    "We make the f1 score calculations based on this reference: \n",
    "https://en.wikipedia.org/wiki/Evaluation_of_binary_classifiers"
   ]
  },
  {
   "cell_type": "code",
   "execution_count": 74,
   "metadata": {},
   "outputs": [],
   "source": [
    "def assess_prediction(predRDD):\n",
    "    \n",
    "    predRDD = predRDD.map(lambda x: (x[0],round(x[1]))).cache()\n",
    "    \n",
    "    total = predRDD.count()\n",
    "    \n",
    "    tp = predRDD.flatMap(lambda x: [1 if x[0]==1 and x[1]==1 else 0]).sum()\n",
    "    tn = predRDD.flatMap(lambda x: [1 if x[0]==0 and x[1]==0 else 0]).sum()\n",
    "    fp = predRDD.flatMap(lambda x: [1 if x[0]==0 and x[1]==1 else 0]).sum()\n",
    "    fn = predRDD.flatMap(lambda x: [1 if x[0]==1 and x[1]==0 else 0]).sum()\n",
    "    f = total - tp - tn\n",
    "    \n",
    "    accuracy = (tp + tn)/total\n",
    "    # F1 = 2*precison*recall/(precision+recall) = 2TP/(TP+FN+TP+FP)\n",
    "    f1score = 2*tp/(2*tp + f)\n",
    "    print('True Positive: ', tp)\n",
    "    print('True Negative: ', tn)\n",
    "    print('False Positive: ', fp)\n",
    "    print('False Negative: ', fn)\n",
    "    print('Accuracy: ', accuracy)\n",
    "    print('F1 Score: ', f1score)\n",
    "    \n",
    "    return [accuracy, f1score]"
   ]
  },
  {
   "cell_type": "code",
   "execution_count": 60,
   "metadata": {},
   "outputs": [],
   "source": [
    "def plotErrorCurves(trainLoss, title = None):\n",
    "    \"\"\"\n",
    "    Helper function for plotting.\n",
    "    Args: trainLoss (list)\n",
    "    \"\"\"\n",
    "    fig, ax = plt.subplots(1,1,figsize = (16,8))\n",
    "    x = list(np.array(1) + np.array(range(len(trainLoss))))\n",
    "    ax.plot(x, trainLoss, 'k--', label='Training Loss')\n",
    "    ax.legend(loc='upper right', fontsize='x-large')\n",
    "    plt.xlabel('Number of Iterations')\n",
    "    plt.ylabel('Log Loss')\n",
    "    if title:\n",
    "        plt.title(title)\n",
    "    plt.show()"
   ]
  },
  {
   "cell_type": "markdown",
   "metadata": {},
   "source": [
    "(1) Logistic regression modeled with 10 principal components, LASSO ($\\lambda$ = 0.1) and learning rate of 0.2"
   ]
  },
  {
   "cell_type": "code",
   "execution_count": 51,
   "metadata": {},
   "outputs": [
    {
     "name": "stdout",
     "output_type": "stream",
     "text": [
      "ITERATION 10: cost = 0.6204736050256453\n",
      "ITERATION 20: cost = 0.5904222752741479\n",
      "ITERATION 30: cost = 0.5776136778875626\n",
      "ITERATION 40: cost = 0.5710850727517818\n",
      "ITERATION 50: cost = 0.5694894857874473\n",
      "ITERATION 60: cost = 0.5691590033915276\n",
      "ITERATION 70: cost = 0.5684652195129458\n",
      "ITERATION 80: cost = 0.5675400534758284\n",
      "ITERATION 90: cost = 0.5701088483727572\n",
      "ITERATION 100: cost = 0.5679619257103014\n",
      "... logistic model trained in 9429.812901496887 seconds.\n"
     ]
    }
   ],
   "source": [
    "## 32 features from feature hashing + 10 PCA components + 100 iterations\n",
    "start = time.time()\n",
    "result = homeGrownLogistic(normedTrainRDD_final, learningRate=0.2, regType=\"lasso\", iterNum=100)\n",
    "print(f'... logistic model trained in {time.time() - start} seconds.')"
   ]
  },
  {
   "cell_type": "code",
   "execution_count": 54,
   "metadata": {},
   "outputs": [
    {
     "data": {
      "text/plain": [
       "array([-1.04846218e+00, -9.33140646e-04, -9.63402472e-03, -1.19559646e-02,\n",
       "        7.73364290e-03, -1.83925434e-02,  1.12375208e-03,  1.81766276e-03,\n",
       "        1.60121849e-02, -1.23177620e-02,  1.73459210e-02])"
      ]
     },
     "execution_count": 54,
     "metadata": {},
     "output_type": "execute_result"
    }
   ],
   "source": [
    "result['weight']"
   ]
  },
  {
   "cell_type": "code",
   "execution_count": 61,
   "metadata": {},
   "outputs": [
    {
     "data": {
      "image/png": "[encoded data removed]",
      "text/plain": [
       "<Figure size 1152x576 with 1 Axes>"
      ]
     },
     "metadata": {},
     "output_type": "display_data"
    }
   ],
   "source": [
    "plotErrorCurves(result['history_cost'], title = 'Logistic Regression' )"
   ]
  },
  {
   "cell_type": "code",
   "execution_count": 76,
   "metadata": {},
   "outputs": [],
   "source": [
    "validationRDD_score = homeGrownLogistic_score(normedValidationRDD_final, result['weight'])"
   ]
  },
  {
   "cell_type": "code",
   "execution_count": 77,
   "metadata": {},
   "outputs": [
    {
     "name": "stdout",
     "output_type": "stream",
     "text": [
      "True Positive:  3\n",
      "True Negative:  10229708\n",
      "False Positive:  161\n",
      "False Negative:  3524883\n",
      "Accuracy:  0.7437217893012271\n",
      "F1 Score:  1.7021035162621806e-06\n",
      "... evaluated in 1126.7565834522247 seconds.\n"
     ]
    }
   ],
   "source": [
    "start = time.time()\n",
    "accuracy,f1score = assess_prediction(validationRDD_score)\n",
    "print(f'... evaluated in {time.time() - start} seconds.')"
   ]
  },
  {
   "cell_type": "markdown",
   "metadata": {},
   "source": [
    "In the model run above, we can see that the changes in cost over the iterations, as well as the actual performance of the model. A few key things to note: \n",
    "\n",
    "* The model is mostly optimized after around 40-50 iterations of GD\n",
    "* The model is very bad at making predictions. Almost everything is being predicted as 0, which is why the accuracy is being shown as around 75%. \n",
    "* The model weights show that all parameters are very close 0, while the intercept is around -1. This suggests that the input variables all have little to no predictive ability. \n",
    "\n",
    "These results suggest that our regularization technique might be pushing down our parameters too close to zero. In our next run, we attempt a model without regularization to see if there is an improvement in the f1 score. "
   ]
  },
  {
   "cell_type": "markdown",
   "metadata": {},
   "source": [
    "(2) Logistic regression modeled with 10 principal components, no regularization and learning rate of 0.2"
   ]
  },
  {
   "cell_type": "code",
   "execution_count": 67,
   "metadata": {},
   "outputs": [
    {
     "name": "stdout",
     "output_type": "stream",
     "text": [
      "ITERATION 10: cost = 0.6143838969939648\n",
      "ITERATION 20: cost = 0.5790618704935805\n",
      "ITERATION 30: cost = 0.5642693097454179\n",
      "ITERATION 40: cost = 0.5574284972215157\n",
      "ITERATION 50: cost = 0.5539364017725842\n",
      "ITERATION 60: cost = 0.5519667450698342\n",
      "ITERATION 70: cost = 0.5507426227256564\n",
      "ITERATION 80: cost = 0.5499124786982128\n",
      "ITERATION 90: cost = 0.5493077296495781\n",
      "ITERATION 100: cost = 0.5488426283511375\n",
      "... logistic model trained in 20711.289948940277 seconds.\n"
     ]
    }
   ],
   "source": [
    "## 32 features from feature hashing + 10 PCA components + 100 iterations\n",
    "start = time.time()\n",
    "result2 = homeGrownLogistic(normedTrainRDD_final, learningRate=0.2, regType=\"None\", iterNum=100)\n",
    "print(f'... logistic model trained in {time.time() - start} seconds.')"
   ]
  },
  {
   "cell_type": "markdown",
   "metadata": {},
   "source": [
    "_Note_: the Spark job got stuck when running the code above, so it took a lot longer to run than usual."
   ]
  },
  {
   "cell_type": "code",
   "execution_count": 68,
   "metadata": {},
   "outputs": [
    {
     "data": {
      "text/plain": [
       "array([-1.07727602, -0.2403975 , -0.10024575,  0.00109253,  0.20505754,\n",
       "       -0.08815916,  0.17808111, -0.28202529,  0.16847152,  0.1468223 ,\n",
       "        0.03896386])"
      ]
     },
     "execution_count": 68,
     "metadata": {},
     "output_type": "execute_result"
    }
   ],
   "source": [
    "result2['weight']"
   ]
  },
  {
   "cell_type": "code",
   "execution_count": 69,
   "metadata": {},
   "outputs": [
    {
     "data": {
      "image/png": "[encoded data removed]",
      "text/plain": [
       "<Figure size 1152x576 with 1 Axes>"
      ]
     },
     "metadata": {},
     "output_type": "display_data"
    }
   ],
   "source": [
    "plotErrorCurves(result2['history_cost'], title = 'Logistic Regression' )"
   ]
  },
  {
   "cell_type": "code",
   "execution_count": 70,
   "metadata": {},
   "outputs": [],
   "source": [
    "validationRDD_score = homeGrownLogistic_score(normedValidationRDD_final, result2['weight'])"
   ]
  },
  {
   "cell_type": "code",
   "execution_count": 75,
   "metadata": {},
   "outputs": [
    {
     "name": "stdout",
     "output_type": "stream",
     "text": [
      "True Positive:  72398\n",
      "True Negative:  10159793\n",
      "False Positive:  70076\n",
      "False Negative:  3452488\n",
      "Accuracy:  0.7439020905861282\n",
      "F1 Score:  0.03948235242790454\n",
      "... evaluated in 1106.9585571289062 seconds.\n"
     ]
    }
   ],
   "source": [
    "start = time.time()\n",
    "accuracy,f1score = assess_prediction(validationRDD_score)\n",
    "print(f'... evaluated in {time.time() - start} seconds.')"
   ]
  },
  {
   "cell_type": "markdown",
   "metadata": {},
   "source": [
    "The number of true positives increased from 3 to 72,398. Not only are the parameters weights much farther from zero, but the f1 score has improved greatly (although it's still fairly bad in general). "
   ]
  },
  {
   "cell_type": "markdown",
   "metadata": {},
   "source": [
    "Due to time constraint, we were unable to grid search the optimal $\\lambda$ using k-fold validation."
   ]
  },
  {
   "cell_type": "markdown",
   "metadata": {},
   "source": [
    "# Section 5 - Application of Course Concepts"
   ]
  },
  {
   "cell_type": "markdown",
   "metadata": {},
   "source": [
    "### 5.1 Broadcasting\n",
    "\n",
    "Broadcasting is an approach in the Spark Map-Reduce paradigm that allows us to make an object available to all worker nodes. A common use of broadcasting is for global information that is required for the data processing tasks that would occur in mappers or reducers. For example, when making a set of predictions in batch using our logistic regression algorithm, we are broadcasting the model weights so that every mapper can apply the model weights for the predictions happening within each node. This allows the entire batch to be split across multiple mappers, each of which has information about the model to make predictions."
   ]
  },
  {
   "cell_type": "markdown",
   "metadata": {},
   "source": [
    "### 5.2 Feature Hashing (a.k.a. The Hashing Trick)\n",
    "\n",
    "Feature hashing, also called the hashing trick, is a technique to encode categorical features. Initially proposed by  Weinberger et. al. (2009), the hashing trick quickly gained popularity and is part of all ML libraries. \n",
    "\n",
    "Imagine that you have a dataset containing large amounts of factors and character data. One way to feed this dataset to a ML algorithm is to dummify all factor, text, and unordered categorical data. This creates a new column for each unique value and tags a binary value whether or not an observation contains that particular value. For large data sets, this can drastically increase the dimensional space (adding many more columns) leading to **Curse of Dimensionality**. So, how does the hashing trick solves it?\n",
    "\n",
    "This problem of high dimensionality can be solved by the hashing trick. We need a hashing function that can generate a numeric hash for a given input. One of the most popular hashing algorithms is, MURMURHASH3. We execute following steps to create a hashing table for our features: \n",
    "\n",
    "- Create a hash value for every feature. For example, we generate the hash of “Alabama”, “Alaska” etc as in the diagram below.\n",
    "- Decide the number of dimensions of the hash table. This is nothing but the value of the table index.\n",
    "- Divide the hash value by the dimension of the hash table and get the reminder. This is also known as appplying MOD function.\n",
    "- Assign or add 1 to the feature to the respective index value. Index value here is nothing but the remainder. \n",
    "- Please note that for a given number, the remainder must be between 0 and n-1. So if we divide any number by 5 the remainder can only be 0,1,2,3 or 4. These are now index values for us.\n",
    "- Every index value becomes the feature for the given dataset.\n",
    "\n",
    "Below is a visual of how feature hashing works."
   ]
  },
  {
   "cell_type": "markdown",
   "metadata": {},
   "source": [
    "<img src=\"FeatureHashing.png\"/>"
   ]
  },
  {
   "cell_type": "markdown",
   "metadata": {},
   "source": [
    "**Advantage of Feature Hashing**\n",
    "The advantage of using feature hashing is that you can represent text documents of variable-length as numeric feature vectors of equal-length, and achieve dimensionality reduction. In contrast, if you tried to use the text column for training as is, it would be treated as a categorical feature column, with many, many distinct values.\n",
    "\n",
    "**Disadvantage of Feature Hashing**\n",
    "One potential downside of using the hashing trick is that multiple, different words may translate to the same index in the vector space (hash collisions) resulting in a loss of precision. But even if it does, it usually doesn’t affect learning (or accuracy) that much.\n",
    "Another disadvantage of feature hashing is that, once vectors are created, it is difficult to determine which frequency values relate to which terms. When using a vocabulary, with associated index mappings, it is easier to analyse frequencies for particular words. This can make feature hashing unsuitable for some applications."
   ]
  },
  {
   "cell_type": "markdown",
   "metadata": {},
   "source": [
    "The following references were found to be useful in understanding feature hashing: \n",
    "* https://en.wikipedia.org/wiki/Feature_hashing  \n",
    "* https://github.com/gcampanella/pydata-london-2019/blob/master/pydata_london_2019.pdf"
   ]
  },
  {
   "cell_type": "markdown",
   "metadata": {},
   "source": [
    "### 5.3 Normalization  \n",
    "\n",
    "Normalization is a technique often applied as part of data preparation for machine learning. The goal of normalization is to change the values of numeric columns in the dataset to a common scale, without distorting differences in the ranges of values. For machine learning, not every dataset requires normalization. It is required only when features have different ranges.\n",
    "\n",
    "For example, consider a data set containing two features, age(x1), and income(x2) where age ranges from 0–100, while income ranges from 20,000–500,000 and higher. So, these two features are in very different ranges. When we do further analysis, like multivariate linear regression, for example, the attributed income will intrinsically influence the result more due to its larger value. But this doesn’t necessarily mean it is more important as a predictor.\n",
    "\n",
    "These vastly differing ranges may result in gradient descent oscillating back and forth and taking a long time before finding its way to a global/local minimum. \n",
    "\n",
    "Normalization avoids these problems by creating new values that maintain the general distribution and ratios in the source data, while keeping values within a scale applied across all numeric columns used in the model.\n",
    "\n",
    "Four common normalization techniques may be useful:\n",
    "\n",
    "- scaling to a range\n",
    "- clipping\n",
    "- log scaling\n",
    "- z-score\n"
   ]
  },
  {
   "cell_type": "markdown",
   "metadata": {},
   "source": [
    "<img align=\"center\" src=\"Normalization.png\"/>"
   ]
  },
  {
   "cell_type": "markdown",
   "metadata": {},
   "source": [
    "### 5.4 Regularization \n",
    "\n",
    "Regularization is a form of regression, that constrains/regularizes or shrinks the coefficient estimates towards zero. In other words, this technique discourages learning a more complex or flexible model, so as to avoid the risk of overfitting. In any supervised learning context we are concerned with making sure our trained models are going to generalize well to unseen data. A standard least squares model tends to have some variance in it, i.e. the model won’t generalize well for a data set different than its training data. \n",
    "\n",
    "Regularization significantly reduces the variance of the model, without substantial increase in its bias. The tuning parameter, λ, controls the impact on bias and variance. As the value of λ rises, it reduces the value of coefficients and thus reducing the variance. This increase in λ is beneficial until a point as it is only reducing the variance (hence avoiding overfitting), without losing any important properties in the data. However, after a certain value, the model starts loosing important properties, giving rise to bias in the model and thus underfitting. Choosing the optimal λ requires setting aside a validation set.\n",
    "\n",
    "The most common regularization techniques are L-1 norm regularization, sometimes known as LASSO, and L-2 norm regularization, sometimes known as Ridge. "
   ]
  },
  {
   "cell_type": "markdown",
   "metadata": {},
   "source": [
    "<img align=\"center\" src=\"Lasso_Ridge.PNG\"/>"
   ]
  },
  {
   "cell_type": "markdown",
   "metadata": {},
   "source": [
    "The above image shows the constraint functions(green areas) for lasso on left and ridge regression on right along with contours for residual sum of squares(red ellipse). Points on the ellipse share the value of RSS. In this case, the lasso and ridge regression coefficient estimates are given by the ﬁrst point at which an ellipse contacts the constraint region. Since ridge regression has a circular constraint with no sharp points, this intersection will not generally occur on an axis and so the ridge regression coeﬃcient estimates will shrink toward zero but not reach zero. However, the lasso constraint has corners at each of the axes and so the ellipse will often intersect the constraint region at an axis. When this occurs, one of the coeﬃcients will equal zero and for higher dimensions many coefficients will be zero."
   ]
  },
  {
   "cell_type": "code",
   "execution_count": null,
   "metadata": {},
   "outputs": [],
   "source": []
  }
 ],
 "metadata": {
  "kernelspec": {
   "display_name": "Python 3",
   "language": "python",
   "name": "python3"
  },
  "language_info": {
   "codemirror_mode": {
    "name": "ipython",
    "version": 3
   },
   "file_extension": ".py",
   "mimetype": "text/x-python",
   "name": "python",
   "nbconvert_exporter": "python",
   "pygments_lexer": "ipython3",
   "version": "3.7.3"
  }
 },
 "nbformat": 4,
 "nbformat_minor": 2
}
